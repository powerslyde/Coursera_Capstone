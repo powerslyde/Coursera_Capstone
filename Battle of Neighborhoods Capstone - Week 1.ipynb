{
 "cells": [
  {
   "cell_type": "markdown",
   "metadata": {},
   "source": [
    "## Quality and Quantity of Grocery Options by Zip Code in Wake County, NC"
   ]
  },
  {
   "cell_type": "markdown",
   "metadata": {},
   "source": [
    "### Business Problem"
   ]
  },
  {
   "cell_type": "markdown",
   "metadata": {},
   "source": [
    "Wake County, NC is one of the fastest growing areas in the United States. However, there has been concern about access to grocery options in some parts of the county. Some parts of the county have been called a \"Food Desert\". a Food Desert is an urban area where it is difficuly to buy affordable food ro good-quality fresh food."
   ]
  },
  {
   "cell_type": "markdown",
   "metadata": {},
   "source": [
    "**Audience**"
   ]
  },
  {
   "cell_type": "markdown",
   "metadata": {},
   "source": [
    "This Analysis is targeted at investors looking to both start a profitable business in a location where there is demand for services and close a vital socio-economic gap."
   ]
  },
  {
   "cell_type": "markdown",
   "metadata": {},
   "source": [
    "**Analyis Overview**"
   ]
  },
  {
   "cell_type": "markdown",
   "metadata": {},
   "source": [
    "This analysis will look at the Grocery Options in Wake County, the Quality of the Grocery Options (as measured by foursuqare users), and the Mean Incomes by Zip code to determine if \n",
    "\n",
    "1) a Food Desert does exist\n",
    "\n",
    "2) if said desert is tied to income\n",
    "\n",
    "3) Where a good place would be to open a grocery store that had the potential to both make money and provide food services to an under-served community"
   ]
  },
  {
   "cell_type": "markdown",
   "metadata": {},
   "source": [
    "### Data Used"
   ]
  },
  {
   "cell_type": "markdown",
   "metadata": {},
   "source": [
    "The Data used in this analysis will be sourced from several known good sources:"
   ]
  },
  {
   "cell_type": "markdown",
   "metadata": {},
   "source": [
    "**Foursquare Location Data**"
   ]
  },
  {
   "cell_type": "markdown",
   "metadata": {},
   "source": [
    "Location and User Review Data will be used to determine the Quantity and Quality of Grocery Options for a given Zip Code"
   ]
  },
  {
   "cell_type": "markdown",
   "metadata": {},
   "source": [
    "**IRS Tax Return Data**"
   ]
  },
  {
   "cell_type": "markdown",
   "metadata": {},
   "source": [
    "Tax Return Data available at irs.gov for the latest year available to the public will be used to determine mean income by Zip Code"
   ]
  },
  {
   "cell_type": "markdown",
   "metadata": {},
   "source": [
    "**Wake County Zip Codes**"
   ]
  },
  {
   "cell_type": "markdown",
   "metadata": {},
   "source": [
    "Wake County Zip Codes will be sourced from Zillow.com, which is a real estate site, and confirmed against official Wake County publications (which are ony available in Image Formats). This will be used to determine the Zip Code scope of the Analysis"
   ]
  },
  {
   "cell_type": "markdown",
   "metadata": {},
   "source": [
    "**Geographical Data for Zip Codes**"
   ]
  },
  {
   "cell_type": "markdown",
   "metadata": {},
   "source": [
    "Geospatial Data for  Wake County Zip Codes will be sourced from the US Census Database. This will be alternate data to use as Center Points to cluster Geospatial data from Foursquare around if needed"
   ]
  },
  {
   "cell_type": "code",
   "execution_count": null,
   "metadata": {},
   "outputs": [],
   "source": []
  }
 ],
 "metadata": {
  "kernelspec": {
   "display_name": "Python 3",
   "language": "python",
   "name": "python3"
  },
  "language_info": {
   "codemirror_mode": {
    "name": "ipython",
    "version": 3
   },
   "file_extension": ".py",
   "mimetype": "text/x-python",
   "name": "python",
   "nbconvert_exporter": "python",
   "pygments_lexer": "ipython3",
   "version": "3.8.2"
  }
 },
 "nbformat": 4,
 "nbformat_minor": 4
}
