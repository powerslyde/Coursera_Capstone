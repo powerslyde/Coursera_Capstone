{
 "cells": [
  {
   "cell_type": "markdown",
   "metadata": {},
   "source": [
    "## Capstone Project: Quality and Quantity of Grocery Options by Zip Code in Wake County, NC\n",
    "### Applied Data Science Capstone by Jon Puryear"
   ]
  },
  {
   "cell_type": "markdown",
   "metadata": {},
   "source": [
    "### Table of Contents"
   ]
  },
  {
   "cell_type": "markdown",
   "metadata": {},
   "source": [
    "#### Introduction / Business Problem"
   ]
  },
  {
   "cell_type": "markdown",
   "metadata": {},
   "source": [
    "Wake County, NC is one of the fastest growing areas in the United States. However, there has been concern about access to grocery options in some parts of the county. Some parts of the county have been called a \"Food Desert\". a Food Desert is an urban area where it is difficuly to buy affordable food ro good-quality fresh food."
   ]
  },
  {
   "cell_type": "markdown",
   "metadata": {},
   "source": [
    "### Data Ingestion"
   ]
  },
  {
   "cell_type": "markdown",
   "metadata": {},
   "source": [
    "#### Notebook Set-up"
   ]
  },
  {
   "cell_type": "markdown",
   "metadata": {},
   "source": [
    "importing Python Modules needed to process the data for this business analysis"
   ]
  },
  {
   "cell_type": "code",
   "execution_count": 1,
   "metadata": {},
   "outputs": [],
   "source": [
    "import numpy as np\n",
    "import pandas as pd\n",
    "from geopy.geocoders import Nominatim # converts an address into Latitude and Longitude values\n",
    "import folium # Map Rendering Library\n",
    "import requests # Library to handle reqeuests\n",
    "from sklearn.cluster import KMeans # Clustering Model\n",
    "import matplotlib.pyplot as plt\n",
    "from matplotlib import cm\n",
    "import matplotlib.colors as colors"
   ]
  },
  {
   "cell_type": "markdown",
   "metadata": {},
   "source": [
    "setting up Pandas to display all columns instead of truncating them"
   ]
  },
  {
   "cell_type": "code",
   "execution_count": 2,
   "metadata": {},
   "outputs": [],
   "source": [
    "pd.options.display.max_columns = None"
   ]
  },
  {
   "cell_type": "markdown",
   "metadata": {},
   "source": [
    "#### Foursquare Data"
   ]
  },
  {
   "cell_type": "markdown",
   "metadata": {},
   "source": [
    "We will be using the Foursqaure Places API to pull in Venue information into this analysis. information on this API can be found at https://foursquare.com/developers/apps"
   ]
  },
  {
   "cell_type": "markdown",
   "metadata": {},
   "source": [
    "**FourSquare API Credentials**"
   ]
  },
  {
   "cell_type": "markdown",
   "metadata": {},
   "source": [
    "Setting up the variables needed for us to access the API later on in the notebook"
   ]
  },
  {
   "cell_type": "code",
   "execution_count": 3,
   "metadata": {},
   "outputs": [],
   "source": [
    "CLIENT_ID = '-' # your Foursquare ID\n",
    "CLIENT_SECRET = '-' # your Foursquare Secret\n",
    "VERSION = '20180604'\n",
    "LIMIT = 100"
   ]
  },
  {
   "cell_type": "markdown",
   "metadata": {},
   "source": [
    "#### IRS Tax Return Data"
   ]
  },
  {
   "cell_type": "markdown",
   "metadata": {},
   "source": [
    "Data has been sourced from: IRS Information: https://www.irs.gov/statistics/soi-tax-stats-individual-income-tax-statistics-2017-zip-code-data-soi\n",
    "\n",
    "The Data was avaliable as an Excel file, so the file was downloaded and we using pandas read_excel function to create a dataset from it"
   ]
  },
  {
   "cell_type": "code",
   "execution_count": 4,
   "metadata": {},
   "outputs": [],
   "source": [
    "irs_tax_data = pd.read_excel(r'2017_nc_irs_data.xlsx')"
   ]
  },
  {
   "cell_type": "markdown",
   "metadata": {},
   "source": [
    "IRS Data is pretty dirty, and we only need to extract a few columns to bring into our analysis. Opening the File in Excel to give a visual reference of what is needed to proceed, we now write code to manipulate the data into a manageable dataset"
   ]
  },
  {
   "cell_type": "markdown",
   "metadata": {},
   "source": [
    "**Clean up the Data Headers**\n",
    "\n",
    "We Replace the existing headers with the new headers from row 2\n",
    "\n",
    "First we define the row from which our new headers will be pulled from:"
   ]
  },
  {
   "cell_type": "code",
   "execution_count": 5,
   "metadata": {},
   "outputs": [],
   "source": [
    "new_header = irs_tax_data.loc[2]"
   ]
  },
  {
   "cell_type": "markdown",
   "metadata": {},
   "source": [
    "Then we create a new dataset by selecting from row inedx 3 and below from the initial dataload"
   ]
  },
  {
   "cell_type": "code",
   "execution_count": 6,
   "metadata": {},
   "outputs": [],
   "source": [
    "clean_irs_data = irs_tax_data[3:]"
   ]
  },
  {
   "cell_type": "markdown",
   "metadata": {},
   "source": [
    "now we add in the rows from the new_header variable back into the dataset as the new column names"
   ]
  },
  {
   "cell_type": "code",
   "execution_count": 7,
   "metadata": {},
   "outputs": [],
   "source": [
    "clean_irs_data.columns = new_header"
   ]
  },
  {
   "cell_type": "markdown",
   "metadata": {},
   "source": [
    "**Clean up Columns and Rows**\n",
    "\n",
    "We only want Total Income and Number of returns from this dataset, at the Zip code aggregate level, so some manipulation is needed to parse out the zip code aggregate as well as pull over the income and count of returns\n",
    "\n",
    "We start by getting the index location for the 'total income' column, the returns count is in the unlabelled column right next to it, so we need both of these columns"
   ]
  },
  {
   "cell_type": "code",
   "execution_count": 8,
   "metadata": {},
   "outputs": [],
   "source": [
    "income_index = clean_irs_data.columns.get_loc('Total income')"
   ]
  },
  {
   "cell_type": "markdown",
   "metadata": {},
   "source": [
    "Now that we know where the 'total income' column is, we can limit our datset to the key information"
   ]
  },
  {
   "cell_type": "code",
   "execution_count": 9,
   "metadata": {},
   "outputs": [],
   "source": [
    "# Check to see if this can be removed\n",
    "# cols = [clean_irs_data[:2], clean_irs_data[income_index:income_index+2]]"
   ]
  },
  {
   "cell_type": "code",
   "execution_count": 10,
   "metadata": {},
   "outputs": [],
   "source": [
    "clean_irs_data = clean_irs_data.iloc[:, [0,1,income_index, income_index +1]]"
   ]
  },
  {
   "cell_type": "markdown",
   "metadata": {},
   "source": [
    "Rename the columns to be more descriptive - we only need the gross_income column as a way to help up identify the zip code aggregate levels in the data, as this field is null in the gross_income column at the zip code aggreate level"
   ]
  },
  {
   "cell_type": "code",
   "execution_count": 11,
   "metadata": {},
   "outputs": [],
   "source": [
    "clean_irs_data.columns = ['ZIPCODE', 'gross_income', 'returns_count', 'total_income']"
   ]
  },
  {
   "cell_type": "markdown",
   "metadata": {},
   "source": [
    "Set the null values to 'zip_total'"
   ]
  },
  {
   "cell_type": "code",
   "execution_count": 12,
   "metadata": {},
   "outputs": [],
   "source": [
    "clean_irs_data.fillna(value = 'zip_total', inplace = True)"
   ]
  },
  {
   "cell_type": "markdown",
   "metadata": {},
   "source": [
    "clear out the un-needed rows from the dataset by filtering on 'zip_total' across several fields"
   ]
  },
  {
   "cell_type": "code",
   "execution_count": 13,
   "metadata": {},
   "outputs": [],
   "source": [
    "clean_irs_data = clean_irs_data.loc[clean_irs_data['ZIPCODE'] != 'zip_total']"
   ]
  },
  {
   "cell_type": "code",
   "execution_count": 14,
   "metadata": {},
   "outputs": [],
   "source": [
    "clean_irs_data = clean_irs_data.loc[clean_irs_data['gross_income'] == 'zip_total']"
   ]
  },
  {
   "cell_type": "markdown",
   "metadata": {},
   "source": [
    "Reset the Index and then drop the extraneous Index field from the dataset"
   ]
  },
  {
   "cell_type": "code",
   "execution_count": 15,
   "metadata": {},
   "outputs": [],
   "source": [
    "clean_irs_data.reset_index(inplace = True)"
   ]
  },
  {
   "cell_type": "code",
   "execution_count": 16,
   "metadata": {},
   "outputs": [],
   "source": [
    "clean_irs_data.drop(columns = ['index'], inplace = True)"
   ]
  },
  {
   "cell_type": "markdown",
   "metadata": {},
   "source": [
    "We no longer need 'gross_income' so dropping it from the dataset"
   ]
  },
  {
   "cell_type": "code",
   "execution_count": 17,
   "metadata": {},
   "outputs": [],
   "source": [
    "clean_irs_data.drop(columns = ['gross_income'], inplace = True)"
   ]
  },
  {
   "cell_type": "markdown",
   "metadata": {},
   "source": [
    "per the IRS Dataset, the total_income value is in Thousands, so we will convert it to regular dollars by * 1000"
   ]
  },
  {
   "cell_type": "code",
   "execution_count": 18,
   "metadata": {},
   "outputs": [],
   "source": [
    "clean_irs_data['total_income'] = (clean_irs_data['total_income'] * 1000)"
   ]
  },
  {
   "cell_type": "markdown",
   "metadata": {},
   "source": [
    "We now have a nice clean IRS dataset"
   ]
  },
  {
   "cell_type": "code",
   "execution_count": 19,
   "metadata": {},
   "outputs": [
    {
     "data": {
      "text/html": [
       "<div>\n",
       "<style scoped>\n",
       "    .dataframe tbody tr th:only-of-type {\n",
       "        vertical-align: middle;\n",
       "    }\n",
       "\n",
       "    .dataframe tbody tr th {\n",
       "        vertical-align: top;\n",
       "    }\n",
       "\n",
       "    .dataframe thead th {\n",
       "        text-align: right;\n",
       "    }\n",
       "</style>\n",
       "<table border=\"1\" class=\"dataframe\">\n",
       "  <thead>\n",
       "    <tr style=\"text-align: right;\">\n",
       "      <th></th>\n",
       "      <th>ZIPCODE</th>\n",
       "      <th>returns_count</th>\n",
       "      <th>total_income</th>\n",
       "    </tr>\n",
       "  </thead>\n",
       "  <tbody>\n",
       "    <tr>\n",
       "      <th>0</th>\n",
       "      <td>27006</td>\n",
       "      <td>6900</td>\n",
       "      <td>723443000</td>\n",
       "    </tr>\n",
       "    <tr>\n",
       "      <th>1</th>\n",
       "      <td>27007</td>\n",
       "      <td>900</td>\n",
       "      <td>44445000</td>\n",
       "    </tr>\n",
       "    <tr>\n",
       "      <th>2</th>\n",
       "      <td>27009</td>\n",
       "      <td>1320</td>\n",
       "      <td>108203000</td>\n",
       "    </tr>\n",
       "    <tr>\n",
       "      <th>3</th>\n",
       "      <td>27011</td>\n",
       "      <td>2340</td>\n",
       "      <td>108120000</td>\n",
       "    </tr>\n",
       "    <tr>\n",
       "      <th>4</th>\n",
       "      <td>27012</td>\n",
       "      <td>13550</td>\n",
       "      <td>1209830000</td>\n",
       "    </tr>\n",
       "  </tbody>\n",
       "</table>\n",
       "</div>"
      ],
      "text/plain": [
       "  ZIPCODE returns_count total_income\n",
       "0   27006          6900    723443000\n",
       "1   27007           900     44445000\n",
       "2   27009          1320    108203000\n",
       "3   27011          2340    108120000\n",
       "4   27012         13550   1209830000"
      ]
     },
     "execution_count": 19,
     "metadata": {},
     "output_type": "execute_result"
    }
   ],
   "source": [
    "clean_irs_data.head()"
   ]
  },
  {
   "cell_type": "markdown",
   "metadata": {},
   "source": [
    "#### Wake County Zip Codes"
   ]
  },
  {
   "cell_type": "markdown",
   "metadata": {},
   "source": [
    "Wake County Zip Codes will be sourced from Zillow.com, which is a real estate site, and confirmed against official Wake County publications (which are ony available in Image Formats). This will be used to determine the Zip Code scope of the Analysis\n",
    "\n",
    "Wake County Zip Codes: http://data-wake.opendata.arcgis.com/datasets/zip-codes/data\n",
    "\n",
    "GeoService: https://maps.wakegov.com/arcgis/rest/services/Boundaries/ZipCodes/MapServer/0/query?outFields=*&where=1%3D1\n",
    "\n",
    "We pull in the zip codes using pandas read_csv"
   ]
  },
  {
   "cell_type": "code",
   "execution_count": 20,
   "metadata": {},
   "outputs": [],
   "source": [
    "wake_county_zip_codes = pd.read_csv(r'Zip_Codes.csv')"
   ]
  },
  {
   "cell_type": "markdown",
   "metadata": {},
   "source": [
    "This dataset looks very clean already, we just need to trim the uneeded data from the dataset"
   ]
  },
  {
   "cell_type": "code",
   "execution_count": 21,
   "metadata": {},
   "outputs": [
    {
     "data": {
      "text/html": [
       "<div>\n",
       "<style scoped>\n",
       "    .dataframe tbody tr th:only-of-type {\n",
       "        vertical-align: middle;\n",
       "    }\n",
       "\n",
       "    .dataframe tbody tr th {\n",
       "        vertical-align: top;\n",
       "    }\n",
       "\n",
       "    .dataframe thead th {\n",
       "        text-align: right;\n",
       "    }\n",
       "</style>\n",
       "<table border=\"1\" class=\"dataframe\">\n",
       "  <thead>\n",
       "    <tr style=\"text-align: right;\">\n",
       "      <th></th>\n",
       "      <th>OBJECTID</th>\n",
       "      <th>ZIPNAME</th>\n",
       "      <th>ZIPNUM</th>\n",
       "      <th>ZIPCODE</th>\n",
       "      <th>NAME</th>\n",
       "      <th>SHAPEAREA</th>\n",
       "      <th>SHAPELEN</th>\n",
       "      <th>LAST_EDITED_DATE</th>\n",
       "    </tr>\n",
       "  </thead>\n",
       "  <tbody>\n",
       "    <tr>\n",
       "      <th>0</th>\n",
       "      <td>4927</td>\n",
       "      <td>RALEIGH</td>\n",
       "      <td>27601.0</td>\n",
       "      <td>RALEIGH 27601</td>\n",
       "      <td>RALEIGH</td>\n",
       "      <td>5.075530e+07</td>\n",
       "      <td>43034.538745</td>\n",
       "      <td>NaN</td>\n",
       "    </tr>\n",
       "    <tr>\n",
       "      <th>1</th>\n",
       "      <td>4928</td>\n",
       "      <td>DURHAM</td>\n",
       "      <td>27713.0</td>\n",
       "      <td>DURHAM 27713</td>\n",
       "      <td>DURHAM</td>\n",
       "      <td>9.440600e+06</td>\n",
       "      <td>22633.644539</td>\n",
       "      <td>NaN</td>\n",
       "    </tr>\n",
       "    <tr>\n",
       "      <th>2</th>\n",
       "      <td>5185</td>\n",
       "      <td>RALEIGH</td>\n",
       "      <td>27604.0</td>\n",
       "      <td>RALEIGH 27604</td>\n",
       "      <td>RALEIGH</td>\n",
       "      <td>5.678501e+08</td>\n",
       "      <td>201307.097948</td>\n",
       "      <td>NaN</td>\n",
       "    </tr>\n",
       "    <tr>\n",
       "      <th>3</th>\n",
       "      <td>5186</td>\n",
       "      <td>WAKE FOREST</td>\n",
       "      <td>27587.0</td>\n",
       "      <td>WAKE FOREST 27587</td>\n",
       "      <td>WAKE FOREST</td>\n",
       "      <td>2.682834e+09</td>\n",
       "      <td>561415.191124</td>\n",
       "      <td>2017/10/25 15:38:04+00</td>\n",
       "    </tr>\n",
       "    <tr>\n",
       "      <th>4</th>\n",
       "      <td>5187</td>\n",
       "      <td>DURHAM</td>\n",
       "      <td>27703.0</td>\n",
       "      <td>DURHAM 27703</td>\n",
       "      <td>DURHAM</td>\n",
       "      <td>5.768992e+06</td>\n",
       "      <td>22448.009933</td>\n",
       "      <td>NaN</td>\n",
       "    </tr>\n",
       "  </tbody>\n",
       "</table>\n",
       "</div>"
      ],
      "text/plain": [
       "   OBJECTID      ZIPNAME   ZIPNUM            ZIPCODE         NAME  \\\n",
       "0      4927      RALEIGH  27601.0      RALEIGH 27601      RALEIGH   \n",
       "1      4928       DURHAM  27713.0       DURHAM 27713       DURHAM   \n",
       "2      5185      RALEIGH  27604.0      RALEIGH 27604      RALEIGH   \n",
       "3      5186  WAKE FOREST  27587.0  WAKE FOREST 27587  WAKE FOREST   \n",
       "4      5187       DURHAM  27703.0       DURHAM 27703       DURHAM   \n",
       "\n",
       "      SHAPEAREA       SHAPELEN        LAST_EDITED_DATE  \n",
       "0  5.075530e+07   43034.538745                     NaN  \n",
       "1  9.440600e+06   22633.644539                     NaN  \n",
       "2  5.678501e+08  201307.097948                     NaN  \n",
       "3  2.682834e+09  561415.191124  2017/10/25 15:38:04+00  \n",
       "4  5.768992e+06   22448.009933                     NaN  "
      ]
     },
     "execution_count": 21,
     "metadata": {},
     "output_type": "execute_result"
    }
   ],
   "source": [
    "wake_county_zip_codes.head()"
   ]
  },
  {
   "cell_type": "markdown",
   "metadata": {},
   "source": [
    "Define the columns to be dropped"
   ]
  },
  {
   "cell_type": "code",
   "execution_count": 22,
   "metadata": {},
   "outputs": [],
   "source": [
    "drop_cols = {'OBJECTID','ZIPCODE', 'NAME', 'SHAPEAREA','SHAPELEN', 'LAST_EDITED_DATE'}"
   ]
  },
  {
   "cell_type": "markdown",
   "metadata": {},
   "source": [
    "and drop them from the dataset"
   ]
  },
  {
   "cell_type": "code",
   "execution_count": 23,
   "metadata": {},
   "outputs": [],
   "source": [
    "wake_county_zip_codes.drop(columns = drop_cols, inplace = True)"
   ]
  },
  {
   "cell_type": "code",
   "execution_count": 24,
   "metadata": {},
   "outputs": [],
   "source": [
    "#Convert from floats / Strings to Ints"
   ]
  },
  {
   "cell_type": "markdown",
   "metadata": {},
   "source": [
    "check for any Null values in the dataset..."
   ]
  },
  {
   "cell_type": "code",
   "execution_count": 25,
   "metadata": {},
   "outputs": [
    {
     "data": {
      "text/html": [
       "<div>\n",
       "<style scoped>\n",
       "    .dataframe tbody tr th:only-of-type {\n",
       "        vertical-align: middle;\n",
       "    }\n",
       "\n",
       "    .dataframe tbody tr th {\n",
       "        vertical-align: top;\n",
       "    }\n",
       "\n",
       "    .dataframe thead th {\n",
       "        text-align: right;\n",
       "    }\n",
       "</style>\n",
       "<table border=\"1\" class=\"dataframe\">\n",
       "  <thead>\n",
       "    <tr style=\"text-align: right;\">\n",
       "      <th></th>\n",
       "      <th>ZIPNAME</th>\n",
       "      <th>ZIPNUM</th>\n",
       "    </tr>\n",
       "  </thead>\n",
       "  <tbody>\n",
       "    <tr>\n",
       "      <th>42</th>\n",
       "      <td>NaN</td>\n",
       "      <td>NaN</td>\n",
       "    </tr>\n",
       "    <tr>\n",
       "      <th>43</th>\n",
       "      <td>NaN</td>\n",
       "      <td>NaN</td>\n",
       "    </tr>\n",
       "    <tr>\n",
       "      <th>44</th>\n",
       "      <td>NaN</td>\n",
       "      <td>NaN</td>\n",
       "    </tr>\n",
       "    <tr>\n",
       "      <th>45</th>\n",
       "      <td>NaN</td>\n",
       "      <td>NaN</td>\n",
       "    </tr>\n",
       "    <tr>\n",
       "      <th>46</th>\n",
       "      <td>NaN</td>\n",
       "      <td>NaN</td>\n",
       "    </tr>\n",
       "    <tr>\n",
       "      <th>47</th>\n",
       "      <td>NaN</td>\n",
       "      <td>NaN</td>\n",
       "    </tr>\n",
       "    <tr>\n",
       "      <th>48</th>\n",
       "      <td>NaN</td>\n",
       "      <td>NaN</td>\n",
       "    </tr>\n",
       "    <tr>\n",
       "      <th>49</th>\n",
       "      <td>NaN</td>\n",
       "      <td>NaN</td>\n",
       "    </tr>\n",
       "    <tr>\n",
       "      <th>50</th>\n",
       "      <td>NaN</td>\n",
       "      <td>NaN</td>\n",
       "    </tr>\n",
       "    <tr>\n",
       "      <th>51</th>\n",
       "      <td>NaN</td>\n",
       "      <td>NaN</td>\n",
       "    </tr>\n",
       "    <tr>\n",
       "      <th>52</th>\n",
       "      <td>NaN</td>\n",
       "      <td>NaN</td>\n",
       "    </tr>\n",
       "  </tbody>\n",
       "</table>\n",
       "</div>"
      ],
      "text/plain": [
       "   ZIPNAME  ZIPNUM\n",
       "42     NaN     NaN\n",
       "43     NaN     NaN\n",
       "44     NaN     NaN\n",
       "45     NaN     NaN\n",
       "46     NaN     NaN\n",
       "47     NaN     NaN\n",
       "48     NaN     NaN\n",
       "49     NaN     NaN\n",
       "50     NaN     NaN\n",
       "51     NaN     NaN\n",
       "52     NaN     NaN"
      ]
     },
     "execution_count": 25,
     "metadata": {},
     "output_type": "execute_result"
    }
   ],
   "source": [
    "wake_county_zip_codes[wake_county_zip_codes.isna().any(axis = 1)]"
   ]
  },
  {
   "cell_type": "markdown",
   "metadata": {},
   "source": [
    "and remove them.."
   ]
  },
  {
   "cell_type": "code",
   "execution_count": 26,
   "metadata": {},
   "outputs": [],
   "source": [
    "wake_county_zip_codes.dropna(inplace = True)"
   ]
  },
  {
   "cell_type": "markdown",
   "metadata": {},
   "source": [
    "Create a new ZIPCODE Column"
   ]
  },
  {
   "cell_type": "code",
   "execution_count": 27,
   "metadata": {},
   "outputs": [],
   "source": [
    "wake_county_zip_codes['ZIPCODE'] = wake_county_zip_codes['ZIPNUM'].astype(int)"
   ]
  },
  {
   "cell_type": "markdown",
   "metadata": {},
   "source": [
    "and remove the ZIPNUM column"
   ]
  },
  {
   "cell_type": "code",
   "execution_count": 28,
   "metadata": {},
   "outputs": [],
   "source": [
    "wake_county_zip_codes.drop(columns = ['ZIPNUM'], inplace = True)"
   ]
  },
  {
   "cell_type": "markdown",
   "metadata": {},
   "source": [
    "Add in a concatenated column for Neighborhood"
   ]
  },
  {
   "cell_type": "code",
   "execution_count": 29,
   "metadata": {},
   "outputs": [],
   "source": [
    "wake_county_zip_codes['Neighborhood'] = wake_county_zip_codes['ZIPNAME'] + ' - ' + wake_county_zip_codes['ZIPCODE'].astype(str)"
   ]
  },
  {
   "cell_type": "markdown",
   "metadata": {},
   "source": [
    "Final Dataset looks like this:"
   ]
  },
  {
   "cell_type": "code",
   "execution_count": 30,
   "metadata": {},
   "outputs": [
    {
     "data": {
      "text/html": [
       "<div>\n",
       "<style scoped>\n",
       "    .dataframe tbody tr th:only-of-type {\n",
       "        vertical-align: middle;\n",
       "    }\n",
       "\n",
       "    .dataframe tbody tr th {\n",
       "        vertical-align: top;\n",
       "    }\n",
       "\n",
       "    .dataframe thead th {\n",
       "        text-align: right;\n",
       "    }\n",
       "</style>\n",
       "<table border=\"1\" class=\"dataframe\">\n",
       "  <thead>\n",
       "    <tr style=\"text-align: right;\">\n",
       "      <th></th>\n",
       "      <th>ZIPNAME</th>\n",
       "      <th>ZIPCODE</th>\n",
       "      <th>Neighborhood</th>\n",
       "    </tr>\n",
       "  </thead>\n",
       "  <tbody>\n",
       "    <tr>\n",
       "      <th>0</th>\n",
       "      <td>RALEIGH</td>\n",
       "      <td>27601</td>\n",
       "      <td>RALEIGH - 27601</td>\n",
       "    </tr>\n",
       "    <tr>\n",
       "      <th>1</th>\n",
       "      <td>DURHAM</td>\n",
       "      <td>27713</td>\n",
       "      <td>DURHAM - 27713</td>\n",
       "    </tr>\n",
       "    <tr>\n",
       "      <th>2</th>\n",
       "      <td>RALEIGH</td>\n",
       "      <td>27604</td>\n",
       "      <td>RALEIGH - 27604</td>\n",
       "    </tr>\n",
       "    <tr>\n",
       "      <th>3</th>\n",
       "      <td>WAKE FOREST</td>\n",
       "      <td>27587</td>\n",
       "      <td>WAKE FOREST - 27587</td>\n",
       "    </tr>\n",
       "    <tr>\n",
       "      <th>4</th>\n",
       "      <td>DURHAM</td>\n",
       "      <td>27703</td>\n",
       "      <td>DURHAM - 27703</td>\n",
       "    </tr>\n",
       "  </tbody>\n",
       "</table>\n",
       "</div>"
      ],
      "text/plain": [
       "       ZIPNAME  ZIPCODE         Neighborhood\n",
       "0      RALEIGH    27601      RALEIGH - 27601\n",
       "1       DURHAM    27713       DURHAM - 27713\n",
       "2      RALEIGH    27604      RALEIGH - 27604\n",
       "3  WAKE FOREST    27587  WAKE FOREST - 27587\n",
       "4       DURHAM    27703       DURHAM - 27703"
      ]
     },
     "execution_count": 30,
     "metadata": {},
     "output_type": "execute_result"
    }
   ],
   "source": [
    "wake_county_zip_codes.head()"
   ]
  },
  {
   "cell_type": "markdown",
   "metadata": {},
   "source": [
    "#### Geographical Data for Zip Codes"
   ]
  },
  {
   "cell_type": "markdown",
   "metadata": {},
   "source": [
    "Zip Code Data: https://www.census.gov/geographies/reference-files/time-series/geo/gazetteer-files.html"
   ]
  },
  {
   "cell_type": "code",
   "execution_count": 31,
   "metadata": {},
   "outputs": [],
   "source": [
    "zip_code_geo_data = pd.read_csv(r'2019_Gaz_zcta_national.txt', delimiter = '\\t')"
   ]
  },
  {
   "cell_type": "code",
   "execution_count": 32,
   "metadata": {},
   "outputs": [
    {
     "data": {
      "text/html": [
       "<div>\n",
       "<style scoped>\n",
       "    .dataframe tbody tr th:only-of-type {\n",
       "        vertical-align: middle;\n",
       "    }\n",
       "\n",
       "    .dataframe tbody tr th {\n",
       "        vertical-align: top;\n",
       "    }\n",
       "\n",
       "    .dataframe thead th {\n",
       "        text-align: right;\n",
       "    }\n",
       "</style>\n",
       "<table border=\"1\" class=\"dataframe\">\n",
       "  <thead>\n",
       "    <tr style=\"text-align: right;\">\n",
       "      <th></th>\n",
       "      <th>GEOID</th>\n",
       "      <th>ALAND</th>\n",
       "      <th>AWATER</th>\n",
       "      <th>ALAND_SQMI</th>\n",
       "      <th>AWATER_SQMI</th>\n",
       "      <th>INTPTLAT</th>\n",
       "      <th>INTPTLONG</th>\n",
       "    </tr>\n",
       "  </thead>\n",
       "  <tbody>\n",
       "    <tr>\n",
       "      <th>0</th>\n",
       "      <td>601</td>\n",
       "      <td>166659747</td>\n",
       "      <td>799292</td>\n",
       "      <td>64.348</td>\n",
       "      <td>0.309</td>\n",
       "      <td>18.180555</td>\n",
       "      <td>-66.749961</td>\n",
       "    </tr>\n",
       "    <tr>\n",
       "      <th>1</th>\n",
       "      <td>602</td>\n",
       "      <td>79307534</td>\n",
       "      <td>4428428</td>\n",
       "      <td>30.621</td>\n",
       "      <td>1.710</td>\n",
       "      <td>18.361945</td>\n",
       "      <td>-67.175597</td>\n",
       "    </tr>\n",
       "    <tr>\n",
       "      <th>2</th>\n",
       "      <td>603</td>\n",
       "      <td>81887188</td>\n",
       "      <td>181412</td>\n",
       "      <td>31.617</td>\n",
       "      <td>0.070</td>\n",
       "      <td>18.455183</td>\n",
       "      <td>-67.119887</td>\n",
       "    </tr>\n",
       "    <tr>\n",
       "      <th>3</th>\n",
       "      <td>606</td>\n",
       "      <td>109579993</td>\n",
       "      <td>12487</td>\n",
       "      <td>42.309</td>\n",
       "      <td>0.005</td>\n",
       "      <td>18.158327</td>\n",
       "      <td>-66.932928</td>\n",
       "    </tr>\n",
       "    <tr>\n",
       "      <th>4</th>\n",
       "      <td>610</td>\n",
       "      <td>93013428</td>\n",
       "      <td>4172059</td>\n",
       "      <td>35.913</td>\n",
       "      <td>1.611</td>\n",
       "      <td>18.294032</td>\n",
       "      <td>-67.127156</td>\n",
       "    </tr>\n",
       "  </tbody>\n",
       "</table>\n",
       "</div>"
      ],
      "text/plain": [
       "   GEOID      ALAND   AWATER  ALAND_SQMI  AWATER_SQMI   INTPTLAT  \\\n",
       "0    601  166659747   799292      64.348        0.309  18.180555   \n",
       "1    602   79307534  4428428      30.621        1.710  18.361945   \n",
       "2    603   81887188   181412      31.617        0.070  18.455183   \n",
       "3    606  109579993    12487      42.309        0.005  18.158327   \n",
       "4    610   93013428  4172059      35.913        1.611  18.294032   \n",
       "\n",
       "   INTPTLONG                                                                                                                                    \n",
       "0                                         -66.749961                                                                                            \n",
       "1                                         -67.175597                                                                                            \n",
       "2                                         -67.119887                                                                                            \n",
       "3                                         -66.932928                                                                                            \n",
       "4                                         -67.127156                                                                                            "
      ]
     },
     "execution_count": 32,
     "metadata": {},
     "output_type": "execute_result"
    }
   ],
   "source": [
    "zip_code_geo_data.head()"
   ]
  },
  {
   "cell_type": "markdown",
   "metadata": {},
   "source": [
    "The GEOID in this dataset is the Zip Code, so we will create the column"
   ]
  },
  {
   "cell_type": "code",
   "execution_count": 33,
   "metadata": {},
   "outputs": [],
   "source": [
    "zip_code_geo_data['ZIPCODE'] = zip_code_geo_data['GEOID']"
   ]
  },
  {
   "cell_type": "markdown",
   "metadata": {},
   "source": [
    "and then drop all the columns we do not need"
   ]
  },
  {
   "cell_type": "code",
   "execution_count": 34,
   "metadata": {},
   "outputs": [],
   "source": [
    "drop_cols = {'GEOID','ALAND', 'AWATER', 'ALAND_SQMI','AWATER_SQMI'}\n",
    "zip_code_geo_data.drop(columns = drop_cols, inplace = True)"
   ]
  },
  {
   "cell_type": "markdown",
   "metadata": {},
   "source": [
    "Final Dataset looks like this:"
   ]
  },
  {
   "cell_type": "code",
   "execution_count": 35,
   "metadata": {},
   "outputs": [
    {
     "data": {
      "text/html": [
       "<div>\n",
       "<style scoped>\n",
       "    .dataframe tbody tr th:only-of-type {\n",
       "        vertical-align: middle;\n",
       "    }\n",
       "\n",
       "    .dataframe tbody tr th {\n",
       "        vertical-align: top;\n",
       "    }\n",
       "\n",
       "    .dataframe thead th {\n",
       "        text-align: right;\n",
       "    }\n",
       "</style>\n",
       "<table border=\"1\" class=\"dataframe\">\n",
       "  <thead>\n",
       "    <tr style=\"text-align: right;\">\n",
       "      <th></th>\n",
       "      <th>INTPTLAT</th>\n",
       "      <th>INTPTLONG</th>\n",
       "      <th>ZIPCODE</th>\n",
       "    </tr>\n",
       "  </thead>\n",
       "  <tbody>\n",
       "    <tr>\n",
       "      <th>0</th>\n",
       "      <td>18.180555</td>\n",
       "      <td>-66.749961</td>\n",
       "      <td>601</td>\n",
       "    </tr>\n",
       "    <tr>\n",
       "      <th>1</th>\n",
       "      <td>18.361945</td>\n",
       "      <td>-67.175597</td>\n",
       "      <td>602</td>\n",
       "    </tr>\n",
       "    <tr>\n",
       "      <th>2</th>\n",
       "      <td>18.455183</td>\n",
       "      <td>-67.119887</td>\n",
       "      <td>603</td>\n",
       "    </tr>\n",
       "    <tr>\n",
       "      <th>3</th>\n",
       "      <td>18.158327</td>\n",
       "      <td>-66.932928</td>\n",
       "      <td>606</td>\n",
       "    </tr>\n",
       "    <tr>\n",
       "      <th>4</th>\n",
       "      <td>18.294032</td>\n",
       "      <td>-67.127156</td>\n",
       "      <td>610</td>\n",
       "    </tr>\n",
       "  </tbody>\n",
       "</table>\n",
       "</div>"
      ],
      "text/plain": [
       "    INTPTLAT  \\\n",
       "0  18.180555   \n",
       "1  18.361945   \n",
       "2  18.455183   \n",
       "3  18.158327   \n",
       "4  18.294032   \n",
       "\n",
       "   INTPTLONG                                                                                                                                    \\\n",
       "0                                         -66.749961                                                                                             \n",
       "1                                         -67.175597                                                                                             \n",
       "2                                         -67.119887                                                                                             \n",
       "3                                         -66.932928                                                                                             \n",
       "4                                         -67.127156                                                                                             \n",
       "\n",
       "   ZIPCODE  \n",
       "0      601  \n",
       "1      602  \n",
       "2      603  \n",
       "3      606  \n",
       "4      610  "
      ]
     },
     "execution_count": 35,
     "metadata": {},
     "output_type": "execute_result"
    }
   ],
   "source": [
    "zip_code_geo_data.head()"
   ]
  },
  {
   "cell_type": "markdown",
   "metadata": {},
   "source": [
    "### Common Dataset for Wake County\n",
    "\n",
    "We want to start to build a single dataset from the three we have imported.\n",
    "\n",
    "We will start with the wake_county_zip_codes dataset since it is already limited to the level they is needed for this analysis (Zip Codes in Wake Count)\n",
    "\n",
    "We will then incorporate the zip code geo data before we use the foursquare API. We won't incorporate the IRS information until after we have compiled and processed the venue information from foursquare"
   ]
  },
  {
   "cell_type": "markdown",
   "metadata": {},
   "source": [
    "**Build Base Dataset**\n",
    "\n",
    "We will use the wake county zip codes dataset as our base"
   ]
  },
  {
   "cell_type": "code",
   "execution_count": 36,
   "metadata": {},
   "outputs": [],
   "source": [
    "wake_county_dataset = wake_county_zip_codes"
   ]
  },
  {
   "cell_type": "markdown",
   "metadata": {},
   "source": [
    "**Add in Location Information**\n",
    "\n",
    "Now we merge the zip code geo data into the bsae dataset"
   ]
  },
  {
   "cell_type": "code",
   "execution_count": 37,
   "metadata": {},
   "outputs": [],
   "source": [
    "wake_county_dataset = pd.merge(wake_county_dataset, zip_code_geo_data, on = 'ZIPCODE', how = 'left')"
   ]
  },
  {
   "cell_type": "markdown",
   "metadata": {},
   "source": [
    "Now we rename the columns to be more descriptiive"
   ]
  },
  {
   "cell_type": "code",
   "execution_count": 38,
   "metadata": {},
   "outputs": [
    {
     "data": {
      "text/plain": [
       "Index(['ZIPNAME', 'ZIPCODE', 'Neighborhood', 'INTPTLAT',\n",
       "       'INTPTLONG                                                                                                                                  '],\n",
       "      dtype='object')"
      ]
     },
     "execution_count": 38,
     "metadata": {},
     "output_type": "execute_result"
    }
   ],
   "source": [
    "wake_county_dataset.columns"
   ]
  },
  {
   "cell_type": "code",
   "execution_count": 39,
   "metadata": {},
   "outputs": [],
   "source": [
    "wake_county_dataset.columns = ['ZIPNAME', 'ZIPCODE', 'Neighborhood','LAT', 'LON']"
   ]
  },
  {
   "cell_type": "markdown",
   "metadata": {},
   "source": [
    "our base dataset is now:"
   ]
  },
  {
   "cell_type": "code",
   "execution_count": 40,
   "metadata": {},
   "outputs": [
    {
     "data": {
      "text/html": [
       "<div>\n",
       "<style scoped>\n",
       "    .dataframe tbody tr th:only-of-type {\n",
       "        vertical-align: middle;\n",
       "    }\n",
       "\n",
       "    .dataframe tbody tr th {\n",
       "        vertical-align: top;\n",
       "    }\n",
       "\n",
       "    .dataframe thead th {\n",
       "        text-align: right;\n",
       "    }\n",
       "</style>\n",
       "<table border=\"1\" class=\"dataframe\">\n",
       "  <thead>\n",
       "    <tr style=\"text-align: right;\">\n",
       "      <th></th>\n",
       "      <th>ZIPNAME</th>\n",
       "      <th>ZIPCODE</th>\n",
       "      <th>Neighborhood</th>\n",
       "      <th>LAT</th>\n",
       "      <th>LON</th>\n",
       "    </tr>\n",
       "  </thead>\n",
       "  <tbody>\n",
       "    <tr>\n",
       "      <th>0</th>\n",
       "      <td>RALEIGH</td>\n",
       "      <td>27601</td>\n",
       "      <td>RALEIGH - 27601</td>\n",
       "      <td>35.773630</td>\n",
       "      <td>-78.634458</td>\n",
       "    </tr>\n",
       "    <tr>\n",
       "      <th>1</th>\n",
       "      <td>DURHAM</td>\n",
       "      <td>27713</td>\n",
       "      <td>DURHAM - 27713</td>\n",
       "      <td>35.895040</td>\n",
       "      <td>-78.923747</td>\n",
       "    </tr>\n",
       "    <tr>\n",
       "      <th>2</th>\n",
       "      <td>RALEIGH</td>\n",
       "      <td>27604</td>\n",
       "      <td>RALEIGH - 27604</td>\n",
       "      <td>35.822921</td>\n",
       "      <td>-78.562045</td>\n",
       "    </tr>\n",
       "    <tr>\n",
       "      <th>3</th>\n",
       "      <td>WAKE FOREST</td>\n",
       "      <td>27587</td>\n",
       "      <td>WAKE FOREST - 27587</td>\n",
       "      <td>35.981382</td>\n",
       "      <td>-78.557584</td>\n",
       "    </tr>\n",
       "    <tr>\n",
       "      <th>4</th>\n",
       "      <td>DURHAM</td>\n",
       "      <td>27703</td>\n",
       "      <td>DURHAM - 27703</td>\n",
       "      <td>35.959272</td>\n",
       "      <td>-78.806808</td>\n",
       "    </tr>\n",
       "  </tbody>\n",
       "</table>\n",
       "</div>"
      ],
      "text/plain": [
       "       ZIPNAME  ZIPCODE         Neighborhood        LAT        LON\n",
       "0      RALEIGH    27601      RALEIGH - 27601  35.773630 -78.634458\n",
       "1       DURHAM    27713       DURHAM - 27713  35.895040 -78.923747\n",
       "2      RALEIGH    27604      RALEIGH - 27604  35.822921 -78.562045\n",
       "3  WAKE FOREST    27587  WAKE FOREST - 27587  35.981382 -78.557584\n",
       "4       DURHAM    27703       DURHAM - 27703  35.959272 -78.806808"
      ]
     },
     "execution_count": 40,
     "metadata": {},
     "output_type": "execute_result"
    }
   ],
   "source": [
    "wake_county_dataset.head()"
   ]
  },
  {
   "cell_type": "markdown",
   "metadata": {},
   "source": [
    "**Descriptive Stats**"
   ]
  },
  {
   "cell_type": "code",
   "execution_count": 41,
   "metadata": {},
   "outputs": [
    {
     "data": {
      "text/plain": [
       "(55, 5)"
      ]
     },
     "execution_count": 41,
     "metadata": {},
     "output_type": "execute_result"
    }
   ],
   "source": [
    "wake_county_dataset.shape"
   ]
  },
  {
   "cell_type": "code",
   "execution_count": 42,
   "metadata": {},
   "outputs": [
    {
     "data": {
      "text/plain": [
       "39"
      ]
     },
     "execution_count": 42,
     "metadata": {},
     "output_type": "execute_result"
    }
   ],
   "source": [
    "len(wake_county_dataset['ZIPCODE'].unique())"
   ]
  },
  {
   "cell_type": "markdown",
   "metadata": {},
   "source": [
    "Drop any Duplicates in the data"
   ]
  },
  {
   "cell_type": "code",
   "execution_count": 43,
   "metadata": {},
   "outputs": [],
   "source": [
    "wake_county_dataset = wake_county_dataset.drop_duplicates()"
   ]
  },
  {
   "cell_type": "markdown",
   "metadata": {},
   "source": [
    "Check the dataset post-removal of duplicates"
   ]
  },
  {
   "cell_type": "code",
   "execution_count": 44,
   "metadata": {},
   "outputs": [
    {
     "data": {
      "text/plain": [
       "(39, 5)"
      ]
     },
     "execution_count": 44,
     "metadata": {},
     "output_type": "execute_result"
    }
   ],
   "source": [
    "wake_county_dataset.shape"
   ]
  },
  {
   "cell_type": "markdown",
   "metadata": {},
   "source": [
    "The shape matched the unique records now, so we are ready to proceed..."
   ]
  },
  {
   "cell_type": "code",
   "execution_count": 45,
   "metadata": {},
   "outputs": [],
   "source": [
    "## Need to add in Income Information next"
   ]
  },
  {
   "cell_type": "markdown",
   "metadata": {},
   "source": [
    "### Visualze the Zip Code centroids"
   ]
  },
  {
   "cell_type": "markdown",
   "metadata": {},
   "source": [
    "**Use the geopy library to get the latitude and longitude values of Wake County, NC**\n",
    "\n",
    "in order to define an instance of the geocode, we need to define a user_agent. The agent will be named *nc_explore*"
   ]
  },
  {
   "cell_type": "code",
   "execution_count": 46,
   "metadata": {},
   "outputs": [
    {
     "name": "stdout",
     "output_type": "stream",
     "text": [
      "The geographical coordinates of Wake County, NC are 35.7979355, -78.6118311\n"
     ]
    }
   ],
   "source": [
    "address = 'Wake County, NC'\n",
    "\n",
    "geolocator = Nominatim(user_agent = 'nc_explore')\n",
    "location = geolocator.geocode(address)\n",
    "latitude = location.latitude\n",
    "longitude = location.longitude\n",
    "\n",
    "print('The geographical coordinates of {} are {}, {}'.format(address, latitude, longitude))"
   ]
  },
  {
   "cell_type": "markdown",
   "metadata": {},
   "source": [
    "**Create a Map of Wake County with the Zip Codes superimposed on it**"
   ]
  },
  {
   "cell_type": "markdown",
   "metadata": {},
   "source": [
    "Create the initial map instance"
   ]
  },
  {
   "cell_type": "code",
   "execution_count": 47,
   "metadata": {},
   "outputs": [],
   "source": [
    "map_wake = folium.Map(location = [latitude, longitude], zoom_start = 11)"
   ]
  },
  {
   "cell_type": "markdown",
   "metadata": {},
   "source": [
    "Add markers to the map for each neighborhood"
   ]
  },
  {
   "cell_type": "code",
   "execution_count": 48,
   "metadata": {},
   "outputs": [],
   "source": [
    "for lat, lng, label in zip(wake_county_dataset['LAT'], wake_county_dataset['LON'], wake_county_dataset['ZIPNAME'] + ' - ' + wake_county_dataset['ZIPCODE'].astype(str)):\n",
    "    label = folium.Popup(label, parse_html = True)\n",
    "    folium.CircleMarker(\n",
    "        [lat, lng],\n",
    "        radius = 5,\n",
    "        popup = label,\n",
    "        color = 'blue',\n",
    "        fill = True,\n",
    "        fill_color = '#3186cc',\n",
    "        fill_opacity = 0.7,\n",
    "        parse_html = False).add_to(map_wake)"
   ]
  },
  {
   "cell_type": "markdown",
   "metadata": {},
   "source": [
    "Display the resultant map"
   ]
  },
  {
   "cell_type": "code",
   "execution_count": 49,
   "metadata": {},
   "outputs": [],
   "source": [
    "#map_wake"
   ]
  },
  {
   "cell_type": "markdown",
   "metadata": {},
   "source": [
    "### Pulling in Grocery Data from Foursquare API\n",
    "\n"
   ]
  },
  {
   "cell_type": "markdown",
   "metadata": {},
   "source": [
    "We are going to define a function below that will pass each record thorugh to the forusquare API and return all the recommended venues in a 5 mile radius"
   ]
  },
  {
   "cell_type": "code",
   "execution_count": 50,
   "metadata": {},
   "outputs": [],
   "source": [
    "def getNearbyVenues(names, latitudes, longitudes, radius = 8047):\n",
    "    \n",
    "    venues_list = []\n",
    "    \n",
    "    for name, lat, lng in zip(names, latitudes, longitudes):\n",
    "        print(name)\n",
    "        \n",
    "        # create the API request URL\n",
    "        url = 'https://api.foursquare.com/v2/venues/explore?&client_id={}&client_secret={}&v={}&ll={},{}&radius={}&limit={}'.format(\n",
    "            CLIENT_ID, \n",
    "            CLIENT_SECRET, \n",
    "            VERSION, \n",
    "            lat, \n",
    "            lng, \n",
    "            radius, \n",
    "            LIMIT)\n",
    "            \n",
    "        # make the GET request\n",
    "        results = requests.get(url).json()[\"response\"]['groups'][0]['items']\n",
    "        # return only relevant information for each nearby venue\n",
    "        venues_list.append([(\n",
    "            name, \n",
    "            lat, \n",
    "            lng, \n",
    "            v['venue']['name'], \n",
    "            v['venue']['location']['lat'], \n",
    "            v['venue']['location']['lng'], \n",
    "            v['venue']['categories'][0]['name']) for v in results])\n",
    "\n",
    "    nearby_venues = pd.DataFrame([item for venue_list in venues_list for item in venue_list])\n",
    "    nearby_venues.columns = ['Neighborhood', \n",
    "                  'Neighborhood Latitude', \n",
    "                  'Neighborhood Longitude', \n",
    "                  'Venue', \n",
    "                  'Venue Latitude', \n",
    "                  'Venue Longitude',\n",
    "                  'Venue Category']\n",
    "    \n",
    "    return(nearby_venues)"
   ]
  },
  {
   "cell_type": "markdown",
   "metadata": {},
   "source": [
    "Now, we set-up the variables using the wake_county_dataset so we can run our foursuqare function"
   ]
  },
  {
   "cell_type": "code",
   "execution_count": 51,
   "metadata": {},
   "outputs": [],
   "source": [
    "names = wake_county_dataset['ZIPNAME'] + ' - ' + wake_county_dataset['ZIPCODE'].astype(str)\n",
    "latitudes = wake_county_dataset['LAT']\n",
    "longitudes = wake_county_dataset['LON']"
   ]
  },
  {
   "cell_type": "markdown",
   "metadata": {},
   "source": [
    "We now define a new dataset to collect this unformation from foursquare and run our function..."
   ]
  },
  {
   "cell_type": "code",
   "execution_count": 53,
   "metadata": {},
   "outputs": [
    {
     "name": "stdout",
     "output_type": "stream",
     "text": [
      "RALEIGH - 27601\n",
      "DURHAM - 27713\n",
      "RALEIGH - 27604\n",
      "WAKE FOREST - 27587\n",
      "DURHAM - 27703\n",
      "ROLESVILLE - 27571\n",
      "KNIGHTDALE - 27545\n",
      "RALEIGH - 27603\n",
      "CREEDMOOR - 27522\n",
      "YOUNGSVILLE - 27596\n",
      "RALEIGH - 27615\n",
      "RALEIGH - 27616\n",
      "RALEIGH - 27612\n",
      "WENDELL - 27591\n",
      "RALEIGH - 27609\n",
      "RALEIGH - 27605\n",
      "APEX - 27502\n",
      "GARNER - 27529\n",
      "RALEIGH - 27608\n",
      "RALEIGH - 27610\n",
      "CLAYTON - 27520\n",
      "ANGIER - 27501\n",
      "RALEIGH - 27613\n",
      "RALEIGH - 27614\n",
      "CARY - 27518\n",
      "APEX - 27523\n",
      "RALEIGH - 27617\n",
      "ZEBULON - 27597\n",
      "CARY - 27511\n",
      "CARY - 27519\n",
      "CARY - 27513\n",
      "RALEIGH - 27607\n",
      "RALEIGH - 27606\n",
      "MORRISVILLE - 27560\n",
      "APEX - 27539\n",
      "FUQUAY VARINA - 27526\n",
      "NEW HILL - 27562\n",
      "WILLOW SPRING - 27592\n",
      "HOLLY SPRINGS - 27540\n"
     ]
    }
   ],
   "source": [
    "wake_venues = getNearbyVenues(names, latitudes, longitudes)"
   ]
  },
  {
   "cell_type": "markdown",
   "metadata": {},
   "source": [
    "**Dataset Exploration**\n",
    "\n",
    "The dataset looks as below"
   ]
  },
  {
   "cell_type": "code",
   "execution_count": 54,
   "metadata": {},
   "outputs": [
    {
     "data": {
      "text/html": [
       "<div>\n",
       "<style scoped>\n",
       "    .dataframe tbody tr th:only-of-type {\n",
       "        vertical-align: middle;\n",
       "    }\n",
       "\n",
       "    .dataframe tbody tr th {\n",
       "        vertical-align: top;\n",
       "    }\n",
       "\n",
       "    .dataframe thead th {\n",
       "        text-align: right;\n",
       "    }\n",
       "</style>\n",
       "<table border=\"1\" class=\"dataframe\">\n",
       "  <thead>\n",
       "    <tr style=\"text-align: right;\">\n",
       "      <th></th>\n",
       "      <th>Neighborhood</th>\n",
       "      <th>Neighborhood Latitude</th>\n",
       "      <th>Neighborhood Longitude</th>\n",
       "      <th>Venue</th>\n",
       "      <th>Venue Latitude</th>\n",
       "      <th>Venue Longitude</th>\n",
       "      <th>Venue Category</th>\n",
       "    </tr>\n",
       "  </thead>\n",
       "  <tbody>\n",
       "    <tr>\n",
       "      <th>0</th>\n",
       "      <td>RALEIGH - 27601</td>\n",
       "      <td>35.77363</td>\n",
       "      <td>-78.634458</td>\n",
       "      <td>Artspace Visual Arts Center</td>\n",
       "      <td>35.775576</td>\n",
       "      <td>-78.636335</td>\n",
       "      <td>Art Gallery</td>\n",
       "    </tr>\n",
       "    <tr>\n",
       "      <th>1</th>\n",
       "      <td>RALEIGH - 27601</td>\n",
       "      <td>35.77363</td>\n",
       "      <td>-78.634458</td>\n",
       "      <td>Burial Beer Co.</td>\n",
       "      <td>35.775241</td>\n",
       "      <td>-78.632247</td>\n",
       "      <td>Brewery</td>\n",
       "    </tr>\n",
       "    <tr>\n",
       "      <th>2</th>\n",
       "      <td>RALEIGH - 27601</td>\n",
       "      <td>35.77363</td>\n",
       "      <td>-78.634458</td>\n",
       "      <td>Bida Manda Laotian Restaurant and Bar</td>\n",
       "      <td>35.777227</td>\n",
       "      <td>-78.636812</td>\n",
       "      <td>Asian Restaurant</td>\n",
       "    </tr>\n",
       "    <tr>\n",
       "      <th>3</th>\n",
       "      <td>RALEIGH - 27601</td>\n",
       "      <td>35.77363</td>\n",
       "      <td>-78.634458</td>\n",
       "      <td>Duke Energy Center For The Performing Arts</td>\n",
       "      <td>35.771314</td>\n",
       "      <td>-78.639560</td>\n",
       "      <td>Performing Arts Venue</td>\n",
       "    </tr>\n",
       "    <tr>\n",
       "      <th>4</th>\n",
       "      <td>RALEIGH - 27601</td>\n",
       "      <td>35.77363</td>\n",
       "      <td>-78.634458</td>\n",
       "      <td>Beasley's Chicken + Honey</td>\n",
       "      <td>35.776968</td>\n",
       "      <td>-78.638175</td>\n",
       "      <td>Southern / Soul Food Restaurant</td>\n",
       "    </tr>\n",
       "  </tbody>\n",
       "</table>\n",
       "</div>"
      ],
      "text/plain": [
       "      Neighborhood  Neighborhood Latitude  Neighborhood Longitude  \\\n",
       "0  RALEIGH - 27601               35.77363              -78.634458   \n",
       "1  RALEIGH - 27601               35.77363              -78.634458   \n",
       "2  RALEIGH - 27601               35.77363              -78.634458   \n",
       "3  RALEIGH - 27601               35.77363              -78.634458   \n",
       "4  RALEIGH - 27601               35.77363              -78.634458   \n",
       "\n",
       "                                        Venue  Venue Latitude  \\\n",
       "0                 Artspace Visual Arts Center       35.775576   \n",
       "1                             Burial Beer Co.       35.775241   \n",
       "2       Bida Manda Laotian Restaurant and Bar       35.777227   \n",
       "3  Duke Energy Center For The Performing Arts       35.771314   \n",
       "4                   Beasley's Chicken + Honey       35.776968   \n",
       "\n",
       "   Venue Longitude                   Venue Category  \n",
       "0       -78.636335                      Art Gallery  \n",
       "1       -78.632247                          Brewery  \n",
       "2       -78.636812                 Asian Restaurant  \n",
       "3       -78.639560            Performing Arts Venue  \n",
       "4       -78.638175  Southern / Soul Food Restaurant  "
      ]
     },
     "execution_count": 54,
     "metadata": {},
     "output_type": "execute_result"
    }
   ],
   "source": [
    "wake_venues.head()"
   ]
  },
  {
   "cell_type": "code",
   "execution_count": 55,
   "metadata": {},
   "outputs": [
    {
     "data": {
      "text/plain": [
       "(3332, 7)"
      ]
     },
     "execution_count": 55,
     "metadata": {},
     "output_type": "execute_result"
    }
   ],
   "source": [
    "wake_venues.shape"
   ]
  },
  {
   "cell_type": "code",
   "execution_count": 56,
   "metadata": {},
   "outputs": [
    {
     "name": "stdout",
     "output_type": "stream",
     "text": [
      "There are 223 unique Venue Categories\n"
     ]
    }
   ],
   "source": [
    "print('There are {} unique Venue Categories'.format(len(wake_venues['Venue Category'].unique())))"
   ]
  },
  {
   "cell_type": "code",
   "execution_count": 57,
   "metadata": {},
   "outputs": [
    {
     "name": "stdout",
     "output_type": "stream",
     "text": [
      "There are 1249 unique Venues\n"
     ]
    }
   ],
   "source": [
    "print('There are {} unique Venues'.format(len(wake_venues['Venue'].unique())))"
   ]
  },
  {
   "cell_type": "code",
   "execution_count": 58,
   "metadata": {},
   "outputs": [
    {
     "data": {
      "text/html": [
       "<div>\n",
       "<style scoped>\n",
       "    .dataframe tbody tr th:only-of-type {\n",
       "        vertical-align: middle;\n",
       "    }\n",
       "\n",
       "    .dataframe tbody tr th {\n",
       "        vertical-align: top;\n",
       "    }\n",
       "\n",
       "    .dataframe thead th {\n",
       "        text-align: right;\n",
       "    }\n",
       "</style>\n",
       "<table border=\"1\" class=\"dataframe\">\n",
       "  <thead>\n",
       "    <tr style=\"text-align: right;\">\n",
       "      <th></th>\n",
       "      <th>Neighborhood Latitude</th>\n",
       "      <th>Neighborhood Longitude</th>\n",
       "      <th>Venue</th>\n",
       "      <th>Venue Latitude</th>\n",
       "      <th>Venue Longitude</th>\n",
       "      <th>Venue Category</th>\n",
       "    </tr>\n",
       "    <tr>\n",
       "      <th>Neighborhood</th>\n",
       "      <th></th>\n",
       "      <th></th>\n",
       "      <th></th>\n",
       "      <th></th>\n",
       "      <th></th>\n",
       "      <th></th>\n",
       "    </tr>\n",
       "  </thead>\n",
       "  <tbody>\n",
       "    <tr>\n",
       "      <th>ANGIER - 27501</th>\n",
       "      <td>27</td>\n",
       "      <td>27</td>\n",
       "      <td>27</td>\n",
       "      <td>27</td>\n",
       "      <td>27</td>\n",
       "      <td>27</td>\n",
       "    </tr>\n",
       "    <tr>\n",
       "      <th>APEX - 27502</th>\n",
       "      <td>87</td>\n",
       "      <td>87</td>\n",
       "      <td>87</td>\n",
       "      <td>87</td>\n",
       "      <td>87</td>\n",
       "      <td>87</td>\n",
       "    </tr>\n",
       "    <tr>\n",
       "      <th>APEX - 27523</th>\n",
       "      <td>73</td>\n",
       "      <td>73</td>\n",
       "      <td>73</td>\n",
       "      <td>73</td>\n",
       "      <td>73</td>\n",
       "      <td>73</td>\n",
       "    </tr>\n",
       "    <tr>\n",
       "      <th>APEX - 27539</th>\n",
       "      <td>100</td>\n",
       "      <td>100</td>\n",
       "      <td>100</td>\n",
       "      <td>100</td>\n",
       "      <td>100</td>\n",
       "      <td>100</td>\n",
       "    </tr>\n",
       "    <tr>\n",
       "      <th>CARY - 27511</th>\n",
       "      <td>100</td>\n",
       "      <td>100</td>\n",
       "      <td>100</td>\n",
       "      <td>100</td>\n",
       "      <td>100</td>\n",
       "      <td>100</td>\n",
       "    </tr>\n",
       "  </tbody>\n",
       "</table>\n",
       "</div>"
      ],
      "text/plain": [
       "                Neighborhood Latitude  Neighborhood Longitude  Venue  \\\n",
       "Neighborhood                                                           \n",
       "ANGIER - 27501                     27                      27     27   \n",
       "APEX - 27502                       87                      87     87   \n",
       "APEX - 27523                       73                      73     73   \n",
       "APEX - 27539                      100                     100    100   \n",
       "CARY - 27511                      100                     100    100   \n",
       "\n",
       "                Venue Latitude  Venue Longitude  Venue Category  \n",
       "Neighborhood                                                     \n",
       "ANGIER - 27501              27               27              27  \n",
       "APEX - 27502                87               87              87  \n",
       "APEX - 27523                73               73              73  \n",
       "APEX - 27539               100              100             100  \n",
       "CARY - 27511               100              100             100  "
      ]
     },
     "execution_count": 58,
     "metadata": {},
     "output_type": "execute_result"
    }
   ],
   "source": [
    "wake_venues.groupby('Neighborhood').count().head()"
   ]
  },
  {
   "cell_type": "markdown",
   "metadata": {},
   "source": [
    "#### Filter the Venues\n",
    "\n",
    "\n",
    "Now we need to filter out the non-Grocery Venues - Looking at the documentation from te foursquare API, we can discover that there are two primary venue categories for \"Food Stores\". These are Grocery Store, Organic Grocery and Supermarket\n",
    "\n",
    "We create a sub dataset called wake_grocery_venues"
   ]
  },
  {
   "cell_type": "code",
   "execution_count": 59,
   "metadata": {},
   "outputs": [],
   "source": [
    "wake_grocery_venues = wake_venues.loc[(wake_venues['Venue Category'] == 'Grocery Store') | (wake_venues['Venue Category'] == 'Organic Grocery') | (wake_venues['Venue Category'] == 'Supermarket')]"
   ]
  },
  {
   "cell_type": "code",
   "execution_count": 60,
   "metadata": {},
   "outputs": [
    {
     "data": {
      "text/html": [
       "<div>\n",
       "<style scoped>\n",
       "    .dataframe tbody tr th:only-of-type {\n",
       "        vertical-align: middle;\n",
       "    }\n",
       "\n",
       "    .dataframe tbody tr th {\n",
       "        vertical-align: top;\n",
       "    }\n",
       "\n",
       "    .dataframe thead th {\n",
       "        text-align: right;\n",
       "    }\n",
       "</style>\n",
       "<table border=\"1\" class=\"dataframe\">\n",
       "  <thead>\n",
       "    <tr style=\"text-align: right;\">\n",
       "      <th></th>\n",
       "      <th>Neighborhood</th>\n",
       "      <th>Neighborhood Latitude</th>\n",
       "      <th>Neighborhood Longitude</th>\n",
       "      <th>Venue</th>\n",
       "      <th>Venue Latitude</th>\n",
       "      <th>Venue Longitude</th>\n",
       "      <th>Venue Category</th>\n",
       "    </tr>\n",
       "  </thead>\n",
       "  <tbody>\n",
       "    <tr>\n",
       "      <th>83</th>\n",
       "      <td>RALEIGH - 27601</td>\n",
       "      <td>35.773630</td>\n",
       "      <td>-78.634458</td>\n",
       "      <td>The Fresh Market</td>\n",
       "      <td>35.789598</td>\n",
       "      <td>-78.658642</td>\n",
       "      <td>Grocery Store</td>\n",
       "    </tr>\n",
       "    <tr>\n",
       "      <th>153</th>\n",
       "      <td>DURHAM - 27713</td>\n",
       "      <td>35.895040</td>\n",
       "      <td>-78.923747</td>\n",
       "      <td>Harris Teeter</td>\n",
       "      <td>35.912543</td>\n",
       "      <td>-78.936125</td>\n",
       "      <td>Supermarket</td>\n",
       "    </tr>\n",
       "    <tr>\n",
       "      <th>184</th>\n",
       "      <td>DURHAM - 27713</td>\n",
       "      <td>35.895040</td>\n",
       "      <td>-78.923747</td>\n",
       "      <td>Harris Teeter</td>\n",
       "      <td>35.918031</td>\n",
       "      <td>-78.958794</td>\n",
       "      <td>Supermarket</td>\n",
       "    </tr>\n",
       "    <tr>\n",
       "      <th>214</th>\n",
       "      <td>RALEIGH - 27604</td>\n",
       "      <td>35.822921</td>\n",
       "      <td>-78.562045</td>\n",
       "      <td>Trader Joe's</td>\n",
       "      <td>35.823443</td>\n",
       "      <td>-78.621513</td>\n",
       "      <td>Grocery Store</td>\n",
       "    </tr>\n",
       "    <tr>\n",
       "      <th>218</th>\n",
       "      <td>RALEIGH - 27604</td>\n",
       "      <td>35.822921</td>\n",
       "      <td>-78.562045</td>\n",
       "      <td>Wegmans</td>\n",
       "      <td>35.820860</td>\n",
       "      <td>-78.620792</td>\n",
       "      <td>Grocery Store</td>\n",
       "    </tr>\n",
       "  </tbody>\n",
       "</table>\n",
       "</div>"
      ],
      "text/plain": [
       "        Neighborhood  Neighborhood Latitude  Neighborhood Longitude  \\\n",
       "83   RALEIGH - 27601              35.773630              -78.634458   \n",
       "153   DURHAM - 27713              35.895040              -78.923747   \n",
       "184   DURHAM - 27713              35.895040              -78.923747   \n",
       "214  RALEIGH - 27604              35.822921              -78.562045   \n",
       "218  RALEIGH - 27604              35.822921              -78.562045   \n",
       "\n",
       "                Venue  Venue Latitude  Venue Longitude Venue Category  \n",
       "83   The Fresh Market       35.789598       -78.658642  Grocery Store  \n",
       "153     Harris Teeter       35.912543       -78.936125    Supermarket  \n",
       "184     Harris Teeter       35.918031       -78.958794    Supermarket  \n",
       "214      Trader Joe's       35.823443       -78.621513  Grocery Store  \n",
       "218           Wegmans       35.820860       -78.620792  Grocery Store  "
      ]
     },
     "execution_count": 60,
     "metadata": {},
     "output_type": "execute_result"
    }
   ],
   "source": [
    "wake_grocery_venues.head()"
   ]
  },
  {
   "cell_type": "markdown",
   "metadata": {},
   "source": [
    "#### Counting the Venues\n",
    "\n",
    "For this we will use a machine learning technique called onhot encoding to convert our categorizal Venue Category Variable into a numeric one"
   ]
  },
  {
   "cell_type": "code",
   "execution_count": 61,
   "metadata": {},
   "outputs": [],
   "source": [
    "wake_onehot = pd.get_dummies(wake_grocery_venues[['Venue Category']], prefix = '', prefix_sep = '')"
   ]
  },
  {
   "cell_type": "code",
   "execution_count": 62,
   "metadata": {},
   "outputs": [],
   "source": [
    "wake_onehot['Neighborhood'] = wake_grocery_venues['Neighborhood']"
   ]
  },
  {
   "cell_type": "code",
   "execution_count": 63,
   "metadata": {},
   "outputs": [],
   "source": [
    "nh_index = wake_onehot.columns.get_loc('Neighborhood')"
   ]
  },
  {
   "cell_type": "code",
   "execution_count": 64,
   "metadata": {},
   "outputs": [],
   "source": [
    "cols = [wake_onehot.columns[nh_index]] + list(wake_onehot.columns[:nh_index]) + list(wake_onehot.columns[nh_index + 1:])"
   ]
  },
  {
   "cell_type": "code",
   "execution_count": 65,
   "metadata": {},
   "outputs": [],
   "source": [
    "wake_onehot = wake_onehot[cols]"
   ]
  },
  {
   "cell_type": "code",
   "execution_count": 66,
   "metadata": {},
   "outputs": [],
   "source": [
    "wake_group = wake_onehot.groupby('Neighborhood').sum().reset_index()"
   ]
  },
  {
   "cell_type": "markdown",
   "metadata": {},
   "source": [
    "This results in a dataset with the counts of the Food Stores by Neighborhood"
   ]
  },
  {
   "cell_type": "code",
   "execution_count": 67,
   "metadata": {},
   "outputs": [
    {
     "data": {
      "text/html": [
       "<div>\n",
       "<style scoped>\n",
       "    .dataframe tbody tr th:only-of-type {\n",
       "        vertical-align: middle;\n",
       "    }\n",
       "\n",
       "    .dataframe tbody tr th {\n",
       "        vertical-align: top;\n",
       "    }\n",
       "\n",
       "    .dataframe thead th {\n",
       "        text-align: right;\n",
       "    }\n",
       "</style>\n",
       "<table border=\"1\" class=\"dataframe\">\n",
       "  <thead>\n",
       "    <tr style=\"text-align: right;\">\n",
       "      <th></th>\n",
       "      <th>Neighborhood</th>\n",
       "      <th>Grocery Store</th>\n",
       "      <th>Supermarket</th>\n",
       "    </tr>\n",
       "  </thead>\n",
       "  <tbody>\n",
       "    <tr>\n",
       "      <th>0</th>\n",
       "      <td>ANGIER - 27501</td>\n",
       "      <td>2</td>\n",
       "      <td>0</td>\n",
       "    </tr>\n",
       "    <tr>\n",
       "      <th>1</th>\n",
       "      <td>APEX - 27502</td>\n",
       "      <td>1</td>\n",
       "      <td>3</td>\n",
       "    </tr>\n",
       "    <tr>\n",
       "      <th>2</th>\n",
       "      <td>APEX - 27523</td>\n",
       "      <td>3</td>\n",
       "      <td>1</td>\n",
       "    </tr>\n",
       "    <tr>\n",
       "      <th>3</th>\n",
       "      <td>APEX - 27539</td>\n",
       "      <td>4</td>\n",
       "      <td>1</td>\n",
       "    </tr>\n",
       "    <tr>\n",
       "      <th>4</th>\n",
       "      <td>CARY - 27511</td>\n",
       "      <td>3</td>\n",
       "      <td>2</td>\n",
       "    </tr>\n",
       "  </tbody>\n",
       "</table>\n",
       "</div>"
      ],
      "text/plain": [
       "     Neighborhood  Grocery Store  Supermarket\n",
       "0  ANGIER - 27501              2            0\n",
       "1    APEX - 27502              1            3\n",
       "2    APEX - 27523              3            1\n",
       "3    APEX - 27539              4            1\n",
       "4    CARY - 27511              3            2"
      ]
     },
     "execution_count": 67,
     "metadata": {},
     "output_type": "execute_result"
    }
   ],
   "source": [
    "wake_group.head()"
   ]
  },
  {
   "cell_type": "code",
   "execution_count": 68,
   "metadata": {},
   "outputs": [
    {
     "data": {
      "text/plain": [
       "(38, 3)"
      ]
     },
     "execution_count": 68,
     "metadata": {},
     "output_type": "execute_result"
    }
   ],
   "source": [
    "wake_group.shape"
   ]
  },
  {
   "cell_type": "markdown",
   "metadata": {},
   "source": [
    "However, it looks like one Neighborhood does not have ANY food stores within 5 miles, so we will need to remember to account for this later on in the analysis"
   ]
  },
  {
   "cell_type": "markdown",
   "metadata": {},
   "source": [
    "Now we merge this new informaiton back into a new merged dataset"
   ]
  },
  {
   "cell_type": "code",
   "execution_count": 71,
   "metadata": {},
   "outputs": [],
   "source": [
    "wake_merged = wake_county_dataset\n",
    "wake_merged = wake_merged.join(wake_group.set_index('Neighborhood'), on = 'Neighborhood')"
   ]
  },
  {
   "cell_type": "markdown",
   "metadata": {},
   "source": [
    "Now we fill in the missing Venue Counts"
   ]
  },
  {
   "cell_type": "code",
   "execution_count": 72,
   "metadata": {},
   "outputs": [],
   "source": [
    "wake_merged.fillna(value = 0, inplace = True)"
   ]
  },
  {
   "cell_type": "markdown",
   "metadata": {},
   "source": [
    "and add a new Key indicator called **food_store_count**"
   ]
  },
  {
   "cell_type": "code",
   "execution_count": 73,
   "metadata": {},
   "outputs": [],
   "source": [
    "wake_merged['food_store_count'] = wake_merged['Grocery Store'] + wake_merged['Supermarket']"
   ]
  },
  {
   "cell_type": "markdown",
   "metadata": {},
   "source": [
    "### Integrate IRS Data into Dataset\n",
    "\n",
    "Now we join our merged dataset with the IRS data to get our household and income information"
   ]
  },
  {
   "cell_type": "code",
   "execution_count": 74,
   "metadata": {},
   "outputs": [],
   "source": [
    "wake_merged = wake_merged.join(clean_irs_data.set_index('ZIPCODE'), on = 'ZIPCODE', how = 'left')"
   ]
  },
  {
   "cell_type": "code",
   "execution_count": 75,
   "metadata": {},
   "outputs": [
    {
     "data": {
      "text/html": [
       "<div>\n",
       "<style scoped>\n",
       "    .dataframe tbody tr th:only-of-type {\n",
       "        vertical-align: middle;\n",
       "    }\n",
       "\n",
       "    .dataframe tbody tr th {\n",
       "        vertical-align: top;\n",
       "    }\n",
       "\n",
       "    .dataframe thead th {\n",
       "        text-align: right;\n",
       "    }\n",
       "</style>\n",
       "<table border=\"1\" class=\"dataframe\">\n",
       "  <thead>\n",
       "    <tr style=\"text-align: right;\">\n",
       "      <th></th>\n",
       "      <th>ZIPNAME</th>\n",
       "      <th>ZIPCODE</th>\n",
       "      <th>Neighborhood</th>\n",
       "      <th>LAT</th>\n",
       "      <th>LON</th>\n",
       "      <th>Grocery Store</th>\n",
       "      <th>Supermarket</th>\n",
       "      <th>food_store_count</th>\n",
       "      <th>returns_count</th>\n",
       "      <th>total_income</th>\n",
       "    </tr>\n",
       "  </thead>\n",
       "  <tbody>\n",
       "    <tr>\n",
       "      <th>0</th>\n",
       "      <td>RALEIGH</td>\n",
       "      <td>27601</td>\n",
       "      <td>RALEIGH - 27601</td>\n",
       "      <td>35.773630</td>\n",
       "      <td>-78.634458</td>\n",
       "      <td>1.0</td>\n",
       "      <td>0.0</td>\n",
       "      <td>1.0</td>\n",
       "      <td>4340</td>\n",
       "      <td>289082000</td>\n",
       "    </tr>\n",
       "    <tr>\n",
       "      <th>1</th>\n",
       "      <td>DURHAM</td>\n",
       "      <td>27713</td>\n",
       "      <td>DURHAM - 27713</td>\n",
       "      <td>35.895040</td>\n",
       "      <td>-78.923747</td>\n",
       "      <td>0.0</td>\n",
       "      <td>2.0</td>\n",
       "      <td>2.0</td>\n",
       "      <td>26260</td>\n",
       "      <td>1989180000</td>\n",
       "    </tr>\n",
       "    <tr>\n",
       "      <th>2</th>\n",
       "      <td>RALEIGH</td>\n",
       "      <td>27604</td>\n",
       "      <td>RALEIGH - 27604</td>\n",
       "      <td>35.822921</td>\n",
       "      <td>-78.562045</td>\n",
       "      <td>4.0</td>\n",
       "      <td>0.0</td>\n",
       "      <td>4.0</td>\n",
       "      <td>21720</td>\n",
       "      <td>1130719000</td>\n",
       "    </tr>\n",
       "    <tr>\n",
       "      <th>3</th>\n",
       "      <td>WAKE FOREST</td>\n",
       "      <td>27587</td>\n",
       "      <td>WAKE FOREST - 27587</td>\n",
       "      <td>35.981382</td>\n",
       "      <td>-78.557584</td>\n",
       "      <td>4.0</td>\n",
       "      <td>3.0</td>\n",
       "      <td>7.0</td>\n",
       "      <td>30920</td>\n",
       "      <td>2993556000</td>\n",
       "    </tr>\n",
       "    <tr>\n",
       "      <th>4</th>\n",
       "      <td>DURHAM</td>\n",
       "      <td>27703</td>\n",
       "      <td>DURHAM - 27703</td>\n",
       "      <td>35.959272</td>\n",
       "      <td>-78.806808</td>\n",
       "      <td>0.0</td>\n",
       "      <td>2.0</td>\n",
       "      <td>2.0</td>\n",
       "      <td>27620</td>\n",
       "      <td>1576820000</td>\n",
       "    </tr>\n",
       "  </tbody>\n",
       "</table>\n",
       "</div>"
      ],
      "text/plain": [
       "       ZIPNAME ZIPCODE         Neighborhood        LAT        LON  \\\n",
       "0      RALEIGH   27601      RALEIGH - 27601  35.773630 -78.634458   \n",
       "1       DURHAM   27713       DURHAM - 27713  35.895040 -78.923747   \n",
       "2      RALEIGH   27604      RALEIGH - 27604  35.822921 -78.562045   \n",
       "3  WAKE FOREST   27587  WAKE FOREST - 27587  35.981382 -78.557584   \n",
       "4       DURHAM   27703       DURHAM - 27703  35.959272 -78.806808   \n",
       "\n",
       "   Grocery Store  Supermarket  food_store_count returns_count total_income  \n",
       "0            1.0          0.0               1.0          4340    289082000  \n",
       "1            0.0          2.0               2.0         26260   1989180000  \n",
       "2            4.0          0.0               4.0         21720   1130719000  \n",
       "3            4.0          3.0               7.0         30920   2993556000  \n",
       "4            0.0          2.0               2.0         27620   1576820000  "
      ]
     },
     "execution_count": 75,
     "metadata": {},
     "output_type": "execute_result"
    }
   ],
   "source": [
    "wake_merged.head()"
   ]
  },
  {
   "cell_type": "markdown",
   "metadata": {},
   "source": [
    "Calculate the average reported Income per Household, **income_per_household**, which is another Key Indicator"
   ]
  },
  {
   "cell_type": "code",
   "execution_count": 76,
   "metadata": {},
   "outputs": [],
   "source": [
    "wake_merged['income_per_household'] = (wake_merged['total_income'] / wake_merged['returns_count'] )"
   ]
  },
  {
   "cell_type": "markdown",
   "metadata": {},
   "source": [
    "Calculate the average # of Households that each food store serves, **households_served** which is another Key indicator"
   ]
  },
  {
   "cell_type": "code",
   "execution_count": 77,
   "metadata": {},
   "outputs": [],
   "source": [
    "wake_merged.reset_index(inplace = True)"
   ]
  },
  {
   "cell_type": "code",
   "execution_count": 78,
   "metadata": {},
   "outputs": [],
   "source": [
    "wake_merged['households_served'] = 0"
   ]
  },
  {
   "cell_type": "code",
   "execution_count": 79,
   "metadata": {},
   "outputs": [],
   "source": [
    "for i in range(len(wake_merged)):\n",
    "    if wake_merged.loc[i, 'food_store_count'] == 0:\n",
    "        wake_merged.loc[i, 'households_served'] = 0\n",
    "    else:\n",
    "        wake_merged.loc[i, 'households_served'] = (wake_merged.loc[i, 'returns_count'] / wake_merged.loc[i, 'food_store_count'].astype(int))"
   ]
  },
  {
   "cell_type": "code",
   "execution_count": 82,
   "metadata": {},
   "outputs": [
    {
     "data": {
      "text/plain": [
       "index                     int64\n",
       "ZIPNAME                  object\n",
       "ZIPCODE                  object\n",
       "Neighborhood             object\n",
       "LAT                     float64\n",
       "LON                     float64\n",
       "Grocery Store           float64\n",
       "Supermarket             float64\n",
       "food_store_count        float64\n",
       "returns_count           float64\n",
       "total_income            float64\n",
       "income_per_household    float64\n",
       "households_served       float64\n",
       "dtype: object"
      ]
     },
     "execution_count": 82,
     "metadata": {},
     "output_type": "execute_result"
    }
   ],
   "source": [
    "wake_merged.dtypes"
   ]
  },
  {
   "cell_type": "code",
   "execution_count": 83,
   "metadata": {},
   "outputs": [],
   "source": [
    "wake_merged['returns_count'] = wake_merged['returns_count'].astype(float)\n",
    "wake_merged['total_income'] = wake_merged['total_income'].astype(float)\n",
    "wake_merged['income_per_household'] = wake_merged['income_per_household'].astype(float)"
   ]
  },
  {
   "cell_type": "code",
   "execution_count": null,
   "metadata": {},
   "outputs": [],
   "source": []
  },
  {
   "cell_type": "markdown",
   "metadata": {},
   "source": [
    "### Data Visualization"
   ]
  },
  {
   "cell_type": "markdown",
   "metadata": {},
   "source": [
    "In this section we will be generating several visualizations that will be used to form our conclusions"
   ]
  },
  {
   "cell_type": "markdown",
   "metadata": {},
   "source": [
    "**Scatterplot of Income per Household ver Households Served**"
   ]
  },
  {
   "cell_type": "code",
   "execution_count": 84,
   "metadata": {},
   "outputs": [
    {
     "data": {
      "text/plain": [
       "<AxesSubplot:xlabel='households_served', ylabel='income_per_household'>"
      ]
     },
     "execution_count": 84,
     "metadata": {},
     "output_type": "execute_result"
    },
    {
     "data": {
      "image/png": "[encoded data removed]",
      "text/plain": [
       "<Figure size 432x288 with 1 Axes>"
      ]
     },
     "metadata": {
      "needs_background": "light"
     },
     "output_type": "display_data"
    }
   ],
   "source": [
    "wake_merged.plot.scatter(x = 'households_served', y = 'income_per_household') "
   ]
  },
  {
   "cell_type": "markdown",
   "metadata": {},
   "source": [
    "**Bubbleplot of Income per Household ver Households Served ver Total Returns Submitted**"
   ]
  },
  {
   "cell_type": "code",
   "execution_count": 86,
   "metadata": {},
   "outputs": [
    {
     "data": {
      "text/plain": [
       "<AxesSubplot:xlabel='households_served', ylabel='income_per_household'>"
      ]
     },
     "execution_count": 86,
     "metadata": {},
     "output_type": "execute_result"
    },
    {
     "data": {
      "image/png": "[encoded data removed]",
      "text/plain": [
       "<Figure size 432x288 with 1 Axes>"
      ]
     },
     "metadata": {
      "needs_background": "light"
     },
     "output_type": "display_data"
    }
   ],
   "source": [
    "wake_merged.plot.scatter(x = 'households_served', y = 'income_per_household', s = wake_merged['returns_count'], alpha = 0.5) "
   ]
  },
  {
   "cell_type": "markdown",
   "metadata": {},
   "source": [
    "**Histograms of Four of the Key Indicators**"
   ]
  },
  {
   "cell_type": "code",
   "execution_count": 105,
   "metadata": {},
   "outputs": [
    {
     "data": {
      "text/plain": [
       "<function matplotlib.pyplot.show(close=None, block=None)>"
      ]
     },
     "execution_count": 105,
     "metadata": {},
     "output_type": "execute_result"
    },
    {
     "data": {
      "image/png": "[encoded data removed]",
      "text/plain": [
       "<Figure size 1440x720 with 4 Axes>"
      ]
     },
     "metadata": {
      "needs_background": "light"
     },
     "output_type": "display_data"
    }
   ],
   "source": [
    "viz = wake_merged[['households_served','food_store_count', 'income_per_household', 'returns_count']]\n",
    "viz.hist()\n",
    "plt.show"
   ]
  },
  {
   "cell_type": "markdown",
   "metadata": {},
   "source": [
    "**Scatterplot of Returns Count ver Households Served**"
   ]
  },
  {
   "cell_type": "code",
   "execution_count": 106,
   "metadata": {},
   "outputs": [
    {
     "data": {
      "text/plain": [
       "<AxesSubplot:xlabel='households_served', ylabel='returns_count'>"
      ]
     },
     "execution_count": 106,
     "metadata": {},
     "output_type": "execute_result"
    },
    {
     "data": {
      "image/png": "[encoded data removed]",
      "text/plain": [
       "<Figure size 1440x720 with 1 Axes>"
      ]
     },
     "metadata": {
      "needs_background": "light"
     },
     "output_type": "display_data"
    }
   ],
   "source": [
    "wake_merged.plot.scatter(x = 'households_served', y = 'returns_count') "
   ]
  },
  {
   "cell_type": "markdown",
   "metadata": {},
   "source": [
    "**Under Served Zip Codes**\n",
    "\n",
    "10,000 households served per Food Store seems to be a deliniation between \"Served\" and \"Over Served\"\n",
    "\n",
    "Show the Data for where households_served > 10,0000 - add an indicator"
   ]
  },
  {
   "cell_type": "code",
   "execution_count": 89,
   "metadata": {},
   "outputs": [],
   "source": [
    "wake_merged['under_served'] = 0\n",
    "wake_merged.loc[wake_merged['households_served'] >= 10000, 'under_served'] = 1"
   ]
  },
  {
   "cell_type": "markdown",
   "metadata": {},
   "source": [
    "Do a groupby on Underserved"
   ]
  },
  {
   "cell_type": "code",
   "execution_count": 94,
   "metadata": {},
   "outputs": [],
   "source": [
    "households_underserved = wake_merged.groupby('under_served').sum()"
   ]
  },
  {
   "cell_type": "code",
   "execution_count": 108,
   "metadata": {},
   "outputs": [
    {
     "data": {
      "text/html": [
       "<div>\n",
       "<style scoped>\n",
       "    .dataframe tbody tr th:only-of-type {\n",
       "        vertical-align: middle;\n",
       "    }\n",
       "\n",
       "    .dataframe tbody tr th {\n",
       "        vertical-align: top;\n",
       "    }\n",
       "\n",
       "    .dataframe thead th {\n",
       "        text-align: right;\n",
       "    }\n",
       "</style>\n",
       "<table border=\"1\" class=\"dataframe\">\n",
       "  <thead>\n",
       "    <tr style=\"text-align: right;\">\n",
       "      <th></th>\n",
       "      <th>index</th>\n",
       "      <th>LAT</th>\n",
       "      <th>LON</th>\n",
       "      <th>Grocery Store</th>\n",
       "      <th>Supermarket</th>\n",
       "      <th>food_store_count</th>\n",
       "      <th>returns_count</th>\n",
       "      <th>total_income</th>\n",
       "      <th>income_per_household</th>\n",
       "      <th>households_served</th>\n",
       "    </tr>\n",
       "    <tr>\n",
       "      <th>under_served</th>\n",
       "      <th></th>\n",
       "      <th></th>\n",
       "      <th></th>\n",
       "      <th></th>\n",
       "      <th></th>\n",
       "      <th></th>\n",
       "      <th></th>\n",
       "      <th></th>\n",
       "      <th></th>\n",
       "      <th></th>\n",
       "    </tr>\n",
       "  </thead>\n",
       "  <tbody>\n",
       "    <tr>\n",
       "      <th>0</th>\n",
       "      <td>756</td>\n",
       "      <td>1181.253247</td>\n",
       "      <td>-2596.813817</td>\n",
       "      <td>81.0</td>\n",
       "      <td>61.0</td>\n",
       "      <td>142.0</td>\n",
       "      <td>497200.0</td>\n",
       "      <td>4.364509e+10</td>\n",
       "      <td>2.994840e+06</td>\n",
       "      <td>120742.116162</td>\n",
       "    </tr>\n",
       "    <tr>\n",
       "      <th>1</th>\n",
       "      <td>113</td>\n",
       "      <td>214.679029</td>\n",
       "      <td>-471.838965</td>\n",
       "      <td>1.0</td>\n",
       "      <td>8.0</td>\n",
       "      <td>9.0</td>\n",
       "      <td>121140.0</td>\n",
       "      <td>7.820426e+09</td>\n",
       "      <td>3.769389e+05</td>\n",
       "      <td>82470.000000</td>\n",
       "    </tr>\n",
       "  </tbody>\n",
       "</table>\n",
       "</div>"
      ],
      "text/plain": [
       "              index          LAT          LON  Grocery Store  Supermarket  \\\n",
       "under_served                                                                \n",
       "0               756  1181.253247 -2596.813817           81.0         61.0   \n",
       "1               113   214.679029  -471.838965            1.0          8.0   \n",
       "\n",
       "              food_store_count  returns_count  total_income  \\\n",
       "under_served                                                  \n",
       "0                        142.0       497200.0  4.364509e+10   \n",
       "1                          9.0       121140.0  7.820426e+09   \n",
       "\n",
       "              income_per_household  households_served  \n",
       "under_served                                           \n",
       "0                     2.994840e+06      120742.116162  \n",
       "1                     3.769389e+05       82470.000000  "
      ]
     },
     "execution_count": 108,
     "metadata": {},
     "output_type": "execute_result"
    }
   ],
   "source": [
    "households_underserved"
   ]
  },
  {
   "cell_type": "code",
   "execution_count": null,
   "metadata": {},
   "outputs": [],
   "source": []
  },
  {
   "cell_type": "code",
   "execution_count": 107,
   "metadata": {},
   "outputs": [
    {
     "data": {
      "text/plain": [
       "<AxesSubplot:ylabel='returns_count'>"
      ]
     },
     "execution_count": 107,
     "metadata": {},
     "output_type": "execute_result"
    },
    {
     "data": {
      "image/png": "[encoded data removed]",
      "text/plain": [
       "<Figure size 1440x720 with 1 Axes>"
      ]
     },
     "metadata": {},
     "output_type": "display_data"
    }
   ],
   "source": [
    "households_underserved.plot.pie(y = 'returns_count')"
   ]
  },
  {
   "cell_type": "markdown",
   "metadata": {},
   "source": [
    "**General Description of the Dataset**"
   ]
  },
  {
   "cell_type": "code",
   "execution_count": 97,
   "metadata": {},
   "outputs": [
    {
     "data": {
      "text/html": [
       "<div>\n",
       "<style scoped>\n",
       "    .dataframe tbody tr th:only-of-type {\n",
       "        vertical-align: middle;\n",
       "    }\n",
       "\n",
       "    .dataframe tbody tr th {\n",
       "        vertical-align: top;\n",
       "    }\n",
       "\n",
       "    .dataframe thead th {\n",
       "        text-align: right;\n",
       "    }\n",
       "</style>\n",
       "<table border=\"1\" class=\"dataframe\">\n",
       "  <thead>\n",
       "    <tr style=\"text-align: right;\">\n",
       "      <th></th>\n",
       "      <th>index</th>\n",
       "      <th>LAT</th>\n",
       "      <th>LON</th>\n",
       "      <th>Grocery Store</th>\n",
       "      <th>Supermarket</th>\n",
       "      <th>food_store_count</th>\n",
       "      <th>returns_count</th>\n",
       "      <th>total_income</th>\n",
       "      <th>income_per_household</th>\n",
       "      <th>households_served</th>\n",
       "      <th>under_served</th>\n",
       "    </tr>\n",
       "  </thead>\n",
       "  <tbody>\n",
       "    <tr>\n",
       "      <th>count</th>\n",
       "      <td>39.000000</td>\n",
       "      <td>39.000000</td>\n",
       "      <td>39.000000</td>\n",
       "      <td>39.000000</td>\n",
       "      <td>39.000000</td>\n",
       "      <td>39.000000</td>\n",
       "      <td>39.000000</td>\n",
       "      <td>3.900000e+01</td>\n",
       "      <td>39.000000</td>\n",
       "      <td>39.000000</td>\n",
       "      <td>39.000000</td>\n",
       "    </tr>\n",
       "    <tr>\n",
       "      <th>mean</th>\n",
       "      <td>22.282051</td>\n",
       "      <td>35.793135</td>\n",
       "      <td>-78.683405</td>\n",
       "      <td>2.102564</td>\n",
       "      <td>1.769231</td>\n",
       "      <td>3.871795</td>\n",
       "      <td>15854.871795</td>\n",
       "      <td>1.319629e+09</td>\n",
       "      <td>86455.877481</td>\n",
       "      <td>5210.567081</td>\n",
       "      <td>0.153846</td>\n",
       "    </tr>\n",
       "    <tr>\n",
       "      <th>std</th>\n",
       "      <td>13.412384</td>\n",
       "      <td>0.133357</td>\n",
       "      <td>0.162018</td>\n",
       "      <td>1.651074</td>\n",
       "      <td>1.286806</td>\n",
       "      <td>2.341609</td>\n",
       "      <td>8318.259836</td>\n",
       "      <td>7.866014e+08</td>\n",
       "      <td>33709.990478</td>\n",
       "      <td>4375.824112</td>\n",
       "      <td>0.365518</td>\n",
       "    </tr>\n",
       "    <tr>\n",
       "      <th>min</th>\n",
       "      <td>0.000000</td>\n",
       "      <td>35.484941</td>\n",
       "      <td>-78.990017</td>\n",
       "      <td>0.000000</td>\n",
       "      <td>0.000000</td>\n",
       "      <td>0.000000</td>\n",
       "      <td>1080.000000</td>\n",
       "      <td>1.015480e+08</td>\n",
       "      <td>38095.849176</td>\n",
       "      <td>0.000000</td>\n",
       "      <td>0.000000</td>\n",
       "    </tr>\n",
       "    <tr>\n",
       "      <th>25%</th>\n",
       "      <td>11.500000</td>\n",
       "      <td>35.725385</td>\n",
       "      <td>-78.804690</td>\n",
       "      <td>1.000000</td>\n",
       "      <td>1.000000</td>\n",
       "      <td>2.000000</td>\n",
       "      <td>9270.000000</td>\n",
       "      <td>5.789335e+08</td>\n",
       "      <td>60124.125722</td>\n",
       "      <td>2859.166667</td>\n",
       "      <td>0.000000</td>\n",
       "    </tr>\n",
       "    <tr>\n",
       "      <th>50%</th>\n",
       "      <td>23.000000</td>\n",
       "      <td>35.801980</td>\n",
       "      <td>-78.675202</td>\n",
       "      <td>2.000000</td>\n",
       "      <td>2.000000</td>\n",
       "      <td>4.000000</td>\n",
       "      <td>16280.000000</td>\n",
       "      <td>1.259805e+09</td>\n",
       "      <td>87763.206388</td>\n",
       "      <td>4005.000000</td>\n",
       "      <td>0.000000</td>\n",
       "    </tr>\n",
       "    <tr>\n",
       "      <th>75%</th>\n",
       "      <td>32.500000</td>\n",
       "      <td>35.880777</td>\n",
       "      <td>-78.574269</td>\n",
       "      <td>3.000000</td>\n",
       "      <td>2.500000</td>\n",
       "      <td>5.000000</td>\n",
       "      <td>22675.000000</td>\n",
       "      <td>1.789994e+09</td>\n",
       "      <td>102313.290043</td>\n",
       "      <td>5754.166667</td>\n",
       "      <td>0.000000</td>\n",
       "    </tr>\n",
       "    <tr>\n",
       "      <th>max</th>\n",
       "      <td>47.000000</td>\n",
       "      <td>36.105618</td>\n",
       "      <td>-78.303150</td>\n",
       "      <td>7.000000</td>\n",
       "      <td>5.000000</td>\n",
       "      <td>11.000000</td>\n",
       "      <td>31560.000000</td>\n",
       "      <td>3.337674e+09</td>\n",
       "      <td>211302.831858</td>\n",
       "      <td>22920.000000</td>\n",
       "      <td>1.000000</td>\n",
       "    </tr>\n",
       "  </tbody>\n",
       "</table>\n",
       "</div>"
      ],
      "text/plain": [
       "           index        LAT        LON  Grocery Store  Supermarket  \\\n",
       "count  39.000000  39.000000  39.000000      39.000000    39.000000   \n",
       "mean   22.282051  35.793135 -78.683405       2.102564     1.769231   \n",
       "std    13.412384   0.133357   0.162018       1.651074     1.286806   \n",
       "min     0.000000  35.484941 -78.990017       0.000000     0.000000   \n",
       "25%    11.500000  35.725385 -78.804690       1.000000     1.000000   \n",
       "50%    23.000000  35.801980 -78.675202       2.000000     2.000000   \n",
       "75%    32.500000  35.880777 -78.574269       3.000000     2.500000   \n",
       "max    47.000000  36.105618 -78.303150       7.000000     5.000000   \n",
       "\n",
       "       food_store_count  returns_count  total_income  income_per_household  \\\n",
       "count         39.000000      39.000000  3.900000e+01             39.000000   \n",
       "mean           3.871795   15854.871795  1.319629e+09          86455.877481   \n",
       "std            2.341609    8318.259836  7.866014e+08          33709.990478   \n",
       "min            0.000000    1080.000000  1.015480e+08          38095.849176   \n",
       "25%            2.000000    9270.000000  5.789335e+08          60124.125722   \n",
       "50%            4.000000   16280.000000  1.259805e+09          87763.206388   \n",
       "75%            5.000000   22675.000000  1.789994e+09         102313.290043   \n",
       "max           11.000000   31560.000000  3.337674e+09         211302.831858   \n",
       "\n",
       "       households_served  under_served  \n",
       "count          39.000000     39.000000  \n",
       "mean         5210.567081      0.153846  \n",
       "std          4375.824112      0.365518  \n",
       "min             0.000000      0.000000  \n",
       "25%          2859.166667      0.000000  \n",
       "50%          4005.000000      0.000000  \n",
       "75%          5754.166667      0.000000  \n",
       "max         22920.000000      1.000000  "
      ]
     },
     "execution_count": 97,
     "metadata": {},
     "output_type": "execute_result"
    }
   ],
   "source": [
    "wake_merged.describe()"
   ]
  },
  {
   "cell_type": "markdown",
   "metadata": {},
   "source": [
    "**Food Store Data Distribution**"
   ]
  },
  {
   "cell_type": "code",
   "execution_count": 98,
   "metadata": {},
   "outputs": [
    {
     "data": {
      "text/plain": [
       "<AxesSubplot:>"
      ]
     },
     "execution_count": 98,
     "metadata": {},
     "output_type": "execute_result"
    },
    {
     "data": {
      "image/png": "[encoded data removed]",
      "text/plain": [
       "<Figure size 432x288 with 1 Axes>"
      ]
     },
     "metadata": {
      "needs_background": "light"
     },
     "output_type": "display_data"
    }
   ],
   "source": [
    "wake_merged.boxplot(column = ['food_store_count'])"
   ]
  },
  {
   "cell_type": "markdown",
   "metadata": {},
   "source": [
    "**House Holds Served Data Distribution**"
   ]
  },
  {
   "cell_type": "code",
   "execution_count": 99,
   "metadata": {},
   "outputs": [
    {
     "data": {
      "text/plain": [
       "<AxesSubplot:>"
      ]
     },
     "execution_count": 99,
     "metadata": {},
     "output_type": "execute_result"
    },
    {
     "data": {
      "image/png": "[encoded data removed]",
      "text/plain": [
       "<Figure size 432x288 with 1 Axes>"
      ]
     },
     "metadata": {
      "needs_background": "light"
     },
     "output_type": "display_data"
    }
   ],
   "source": [
    "wake_merged.boxplot(column = ['households_served'])"
   ]
  },
  {
   "cell_type": "code",
   "execution_count": 100,
   "metadata": {},
   "outputs": [],
   "source": [
    "plt.rcParams['figure.figsize'] = (20,10)"
   ]
  },
  {
   "cell_type": "markdown",
   "metadata": {},
   "source": [
    "**Households Served per Food Store by Neighborhood**"
   ]
  },
  {
   "cell_type": "code",
   "execution_count": 101,
   "metadata": {},
   "outputs": [
    {
     "data": {
      "text/plain": [
       "<AxesSubplot:xlabel='Neighborhood'>"
      ]
     },
     "execution_count": 101,
     "metadata": {},
     "output_type": "execute_result"
    },
    {
     "data": {
      "image/png": "[encoded data removed]",
      "text/plain": [
       "<Figure size 1440x720 with 1 Axes>"
      ]
     },
     "metadata": {
      "needs_background": "light"
     },
     "output_type": "display_data"
    }
   ],
   "source": [
    "wake_merged.plot.bar(x = 'Neighborhood', y = 'households_served')"
   ]
  },
  {
   "cell_type": "markdown",
   "metadata": {},
   "source": [
    "**Data Correlation**"
   ]
  },
  {
   "cell_type": "markdown",
   "metadata": {},
   "source": [
    "This will determine if there is any correlation between the Income and Count of Food Stores.."
   ]
  },
  {
   "cell_type": "code",
   "execution_count": 102,
   "metadata": {},
   "outputs": [
    {
     "data": {
      "text/plain": [
       "<AxesSubplot:>"
      ]
     },
     "execution_count": 102,
     "metadata": {},
     "output_type": "execute_result"
    },
    {
     "data": {
      "image/png": "[encoded data removed]",
      "text/plain": [
       "<Figure size 648x576 with 2 Axes>"
      ]
     },
     "metadata": {
      "needs_background": "light"
     },
     "output_type": "display_data"
    }
   ],
   "source": [
    "import seaborn as sns\n",
    "corrmat = viz.corr()\n",
    "\n",
    "f, ax = plt.subplots(figsize = (9, 8))\n",
    "sns.heatmap(corrmat, ax = ax, cmap = 'YlGnBu', linewidths = 0.1)\n"
   ]
  },
  {
   "cell_type": "markdown",
   "metadata": {},
   "source": [
    "The chart above shows that there is no correlation between Households Served and Income Per Household"
   ]
  },
  {
   "cell_type": "markdown",
   "metadata": {},
   "source": [
    "#### Visualize the Underserved Neighborhoods Geographically\n",
    "\n",
    "Use the Served . Underserved value to distinguish between colors of the neighborhood"
   ]
  },
  {
   "cell_type": "code",
   "execution_count": 104,
   "metadata": {},
   "outputs": [
    {
     "data": {
      "text/html": [
       "<div style=\"width:100%;\"><div style=\"position:relative;width:100%;height:0;padding-bottom:60%;\"><span style=\"color:#565656\">Make this Notebook Trusted to load map: File -> Trust Notebook</span><iframe src=\"about:blank\" style=\"position:absolute;width:100%;height:100%;left:0;top:0;border:none !important;\" data-html=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 onload=\"this.contentDocument.open();this.contentDocument.write(atob(this.getAttribute('data-html')));this.contentDocument.close();\" allowfullscreen webkitallowfullscreen mozallowfullscreen></iframe></div></div>"
      ],
      "text/plain": [
       "<folium.folium.Map at 0x12f0d0d00>"
      ]
     },
     "execution_count": 104,
     "metadata": {},
     "output_type": "execute_result"
    }
   ],
   "source": [
    "#create map\n",
    "\n",
    "map_clusters = folium.Map(location = [latitude, longitude], zoom_start = 11)\n",
    "\n",
    "#Set color scheme for the clusters\n",
    "x = 2\n",
    "ys = [i + x + (i * x)**2 for i in range(2)]\n",
    "cmap = cm.get_cmap('rainbow')\n",
    "#colors_array = cm.rainbow(np.linspace(0, 1, len(ys)))\n",
    "colors_array = cmap(np.linspace(0, 1, len(ys)))\n",
    "rainbow = [colors.rgb2hex(i) for i in colors_array]\n",
    "\n",
    "# add the markers to the map\n",
    "markers_colors = []\n",
    "\n",
    "for lat, lon, poi, cluster in zip(wake_merged['LAT'], wake_merged['LON'], wake_merged['Neighborhood'], wake_merged['under_served']):\n",
    "    label = folium.Popup(str(poi) + ' Cluster ' + str(cluster), parse_html = True)\n",
    "    folium.CircleMarker(\n",
    "        [lat, lon],\n",
    "        radius = 5,\n",
    "        popup = label,\n",
    "        color = rainbow[int(cluster) - 1],\n",
    "        fill_opacity = 0.7).add_to(map_clusters)\n",
    "    \n",
    "map_clusters"
   ]
  },
  {
   "cell_type": "markdown",
   "metadata": {},
   "source": [
    "Looks like Geogprahy is more of a factor than Income when it comes to the quality and quantity of Grocery Services"
   ]
  },
  {
   "cell_type": "markdown",
   "metadata": {},
   "source": [
    "### Conclusions\n",
    "\n",
    "Based on the information, it appears that Geograhoy is the primary factor, not income or population.\n",
    "\n",
    "Majority of the Under Served locations are in Rural Areas. "
   ]
  },
  {
   "cell_type": "code",
   "execution_count": null,
   "metadata": {},
   "outputs": [],
   "source": []
  }
 ],
 "metadata": {
  "kernelspec": {
   "display_name": "Python 3",
   "language": "python",
   "name": "python3"
  },
  "language_info": {
   "codemirror_mode": {
    "name": "ipython",
    "version": 3
   },
   "file_extension": ".py",
   "mimetype": "text/x-python",
   "name": "python",
   "nbconvert_exporter": "python",
   "pygments_lexer": "ipython3",
   "version": "3.8.2"
  }
 },
 "nbformat": 4,
 "nbformat_minor": 4
}
